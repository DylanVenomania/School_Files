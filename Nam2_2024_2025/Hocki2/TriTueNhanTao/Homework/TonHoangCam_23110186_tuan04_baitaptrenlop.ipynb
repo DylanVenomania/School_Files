{
  "metadata": {
    "kernelspec": {
      "name": "python",
      "display_name": "Python (Pyodide)",
      "language": "python"
    },
    "language_info": {
      "codemirror_mode": {
        "name": "python",
        "version": 3
      },
      "file_extension": ".py",
      "mimetype": "text/x-python",
      "name": "python",
      "nbconvert_exporter": "python",
      "pygments_lexer": "ipython3",
      "version": "3.8"
    }
  },
  "nbformat_minor": 4,
  "nbformat": 4,
  "cells": [
    {
      "cell_type": "markdown",
      "source": "## Importing pandas\n\n### Bắt đầu và kiểm tra thiết lập pandas của bạn\n\nMức độ: *easy* \n\n**1.** Import pandas dưới bí danh `pd`.",
      "metadata": {}
    },
    {
      "cell_type": "code",
      "source": "import pandas as pd\n",
      "metadata": {
        "trusted": true
      },
      "outputs": [],
      "execution_count": 8
    },
    {
      "cell_type": "markdown",
      "source": "**2.** In phiên bản pandas đã được nhập.",
      "metadata": {}
    },
    {
      "cell_type": "code",
      "source": "print(pd.__version__)",
      "metadata": {
        "trusted": true
      },
      "outputs": [
        {
          "name": "stdout",
          "output_type": "stream",
          "text": "2.2.3\n"
        }
      ],
      "execution_count": 3
    },
    {
      "cell_type": "markdown",
      "source": "**3.** In ra tất cả thông tin *phiên bản* của các thư viện mà thư viện pandas yêu cầu.",
      "metadata": {}
    },
    {
      "cell_type": "code",
      "source": "print( pd.show_versions() )",
      "metadata": {
        "trusted": true
      },
      "outputs": [
        {
          "name": "stdout",
          "output_type": "stream",
          "text": "\nINSTALLED VERSIONS\n------------------\ncommit                : 0691c5cf90477d3503834d983f69350f250a6ff7\npython                : 3.12.7\npython-bits           : 32\nOS                    : Emscripten\nOS-release            : 3.1.58\nVersion               : #1\nmachine               : wasm32\nprocessor             : \nbyteorder             : little\nLC_ALL                : None\nLANG                  : vi.UTF-8\nLOCALE                : vi_VN.UTF-8\n\npandas                : 2.2.3\nnumpy                 : 2.0.2\npytz                  : 2024.1\ndateutil              : 2.9.0.post0\npip                   : None\nCython                : None\nsphinx                : None\nIPython               : 8.23.0\nadbc-driver-postgresql: None\nadbc-driver-sqlite    : None\nbs4                   : None\nblosc                 : None\nbottleneck            : None\ndataframe-api-compat  : None\nfastparquet           : None\nfsspec                : None\nhtml5lib              : None\nhypothesis            : None\ngcsfs                 : None\njinja2                : None\nlxml.etree            : None\nmatplotlib            : None\nnumba                 : None\nnumexpr               : None\nodfpy                 : None\nopenpyxl              : None\npandas_gbq            : None\npsycopg2              : None\npymysql               : None\npyarrow               : None\npyreadstat            : None\npytest                : None\npython-calamine       : None\npyxlsb                : None\ns3fs                  : None\nscipy                 : None\nsqlalchemy            : None\ntables                : None\ntabulate              : None\nxarray                : None\nxlrd                  : None\nxlsxwriter            : None\nzstandard             : None\ntzdata                : None\nqtpy                  : None\npyqt5                 : None\nNone\n"
        }
      ],
      "execution_count": 10
    },
    {
      "cell_type": "markdown",
      "source": "## DataFrame\n\n### Một số thói quen cơ bản để lựa chọn, sắp xếp, thêm và tổng hợp dữ liệu trong DataFrames\n\nMức độ khó: *easy*\n\nChú ý: nhớ import numpy sử dụng:\n```python\nimport numpy as np\n```\n\nHãy xem xét Dictionary Python `data` và list Python `labels` sau:\n\n``` python\ndata = {'animal': ['snake', 'cat', 'snake', 'dog', 'snake', 'cat', 'snake', 'cat', 'dog', 'cat'],\n        'age': [3, 3.5, 0.5, np.nan, 6, 2.5, 4.5, np.nan, 4, 2],\n        'visits': [1, 3, 2, 3, 2, 3, 1, 1, 2, 1],\n        'priority': ['yes', 'yes', 'no', 'yes', 'no', 'no', 'no', 'yes', 'no', 'no']}\n\nlabels = ['a', 'b', 'c', 'd', 'e', 'f', 'g', 'h', 'i', 'j']\n```\n(Đây chỉ là một số dữ liệu vô nghĩa mà tác giả tạo ra với chủ đề về động vật và những chuyến đi khám bác sĩ thú y.)\n\n**4.** Tạo một DataFrame `df` từ từ điển `data` có chỉ mục `labels`.",
      "metadata": {}
    },
    {
      "cell_type": "code",
      "source": "import numpy as np\n\ndata = {'animal': ['cat', 'cat', 'snake', 'dog', 'dog', 'cat', 'snake', 'cat', 'dog', 'dog'],\n        'age': [2.5, 3, 0.5, np.nan, 5, 2, 4.5, np.nan, 7, 3],\n        'visits': [1, 3, 2, 3, 2, 3, 1, 1, 2, 1],\n        'priority': ['yes', 'yes', 'no', 'yes', 'no', 'no', 'no', 'yes', 'no', 'no']}\n\nlabels = ['a', 'b', 'c', 'd', 'e', 'f', 'g', 'h', 'i', 'j']\n\n#df = (hoàn thành code của dòng này)\n\ndf = pd.DataFrame( data, index = labels )\nprint ( df )",
      "metadata": {
        "trusted": true
      },
      "outputs": [
        {
          "name": "stdout",
          "output_type": "stream",
          "text": "  animal  age  visits priority\na    cat  2.5       1      yes\nb    cat  3.0       3      yes\nc  snake  0.5       2       no\nd    dog  NaN       3      yes\ne    dog  5.0       2       no\nf    cat  2.0       3       no\ng  snake  4.5       1       no\nh    cat  NaN       1      yes\ni    dog  7.0       2       no\nj    dog  3.0       1       no\n"
        }
      ],
      "execution_count": 97
    },
    {
      "cell_type": "markdown",
      "source": "**5.** Hiển thị tóm tắt thông tin cơ bản về DataFrame này và dữ liệu của nó (*gợi ý: chỉ có một phương thức có thể được gọi trên DataFrame*).",
      "metadata": {}
    },
    {
      "cell_type": "code",
      "source": "df.info()",
      "metadata": {
        "trusted": true
      },
      "outputs": [
        {
          "name": "stdout",
          "output_type": "stream",
          "text": "<class 'pandas.core.frame.DataFrame'>\nIndex: 10 entries, a to j\nData columns (total 4 columns):\n #   Column    Non-Null Count  Dtype  \n---  ------    --------------  -----  \n 0   animal    10 non-null     object \n 1   age       8 non-null      float64\n 2   visits    10 non-null     int64  \n 3   priority  10 non-null     object \ndtypes: float64(1), int64(1), object(2)\nmemory usage: 280.0+ bytes\n"
        }
      ],
      "execution_count": 98
    },
    {
      "cell_type": "markdown",
      "source": "**6.** Trả về 3 hàng đầu tiên của DataFrame `df`.",
      "metadata": {}
    },
    {
      "cell_type": "code",
      "source": "print ( df.head(3) )",
      "metadata": {
        "trusted": true
      },
      "outputs": [
        {
          "name": "stdout",
          "output_type": "stream",
          "text": "  animal  age  visits priority\na    cat  2.5       1      yes\nb    cat  3.0       3      yes\nc  snake  0.5       2       no\n"
        }
      ],
      "execution_count": 99
    },
    {
      "cell_type": "markdown",
      "source": "**7.** Chỉ chọn các cột 'động vật' và 'tuổi' từ DataFrame `df`.",
      "metadata": {}
    },
    {
      "cell_type": "code",
      "source": "print( df[ ['animal', 'age' ] ])",
      "metadata": {
        "trusted": true
      },
      "outputs": [
        {
          "name": "stdout",
          "output_type": "stream",
          "text": "  animal  age\na    cat  2.5\nb    cat  3.0\nc  snake  0.5\nd    dog  NaN\ne    dog  5.0\nf    cat  2.0\ng  snake  4.5\nh    cat  NaN\ni    dog  7.0\nj    dog  3.0\n"
        }
      ],
      "execution_count": 100
    },
    {
      "cell_type": "markdown",
      "source": "**8.** Chọn dữ liệu ở hàng `[3, 4, 8]` *và* ở cột `['animal', 'age']`.",
      "metadata": {}
    },
    {
      "cell_type": "code",
      "source": "print( df.loc[ ['d', 'e', 'i'], ['animal', 'age'] ] ) ",
      "metadata": {
        "trusted": true
      },
      "outputs": [
        {
          "name": "stdout",
          "output_type": "stream",
          "text": "  animal  age\nd    dog  NaN\ne    dog  5.0\ni    dog  7.0\n"
        }
      ],
      "execution_count": 101
    },
    {
      "cell_type": "markdown",
      "source": "**9.** Chỉ chọn những hàng có số lượt visits lớn hơn 3.",
      "metadata": {}
    },
    {
      "cell_type": "code",
      "source": "print( df[ df[ 'visits'] > 3 ]  )\n\nprint ()\n\nprint( df.loc[ df['visits'] > 3 ]  )",
      "metadata": {
        "trusted": true
      },
      "outputs": [
        {
          "name": "stdout",
          "output_type": "stream",
          "text": "Empty DataFrame\nColumns: [animal, age, visits, priority]\nIndex: []\n\nEmpty DataFrame\nColumns: [animal, age, visits, priority]\nIndex: []\n"
        }
      ],
      "execution_count": 102
    },
    {
      "cell_type": "markdown",
      "source": "**10.** Chọn những hang có age bị thiếu dữ liệu, i.e. `NaN`.",
      "metadata": {}
    },
    {
      "cell_type": "code",
      "source": "print( df[ df['age'].isna() ] )\n\nprint()\n\nprint( df.loc[ df['age'].isna() ] ) ",
      "metadata": {
        "trusted": true
      },
      "outputs": [
        {
          "name": "stdout",
          "output_type": "stream",
          "text": "  animal  age  visits priority\nd    dog  NaN       3      yes\nh    cat  NaN       1      yes\n\n  animal  age  visits priority\nd    dog  NaN       3      yes\nh    cat  NaN       1      yes\n"
        }
      ],
      "execution_count": 103
    },
    {
      "cell_type": "markdown",
      "source": "**11.** Chọn những hàng có animal là cat *và*  age nhỏ hơn 3.",
      "metadata": {}
    },
    {
      "cell_type": "code",
      "source": "print( df[ (df['animal'] == 'cat' ) & ( df['age'] < 3 ) ] )\n\nprint()\n\nprint( df.loc[ (df['animal'] == 'cat' ) & (df['age'] < 3) ])",
      "metadata": {
        "trusted": true
      },
      "outputs": [
        {
          "name": "stdout",
          "output_type": "stream",
          "text": "  animal  age  visits priority\na    cat  2.5       1      yes\nf    cat  2.0       3       no\n\n  animal  age  visits priority\na    cat  2.5       1      yes\nf    cat  2.0       3       no\n"
        }
      ],
      "execution_count": 104
    },
    {
      "cell_type": "markdown",
      "source": "**12.** Chọn những hàng có age nằm giữa 2 và 4 (bao gồm).",
      "metadata": {}
    },
    {
      "cell_type": "code",
      "source": "print( df[ ( df['age'] > 2 ) & ( df['age'] < 4 ) ] )\n\nprint()\n\nprint( df.loc[ (df['age'] > 2 ) & ( df['age'] < 4)] ) ",
      "metadata": {
        "trusted": true
      },
      "outputs": [
        {
          "name": "stdout",
          "output_type": "stream",
          "text": "  animal  age  visits priority\na    cat  2.5       1      yes\nb    cat  3.0       3      yes\nj    dog  3.0       1       no\n\n  animal  age  visits priority\na    cat  2.5       1      yes\nb    cat  3.0       3      yes\nj    dog  3.0       1       no\n"
        }
      ],
      "execution_count": 105
    },
    {
      "cell_type": "markdown",
      "source": "**13.** Thay đổi age ở hàng 'f' thành 1.5.",
      "metadata": {}
    },
    {
      "cell_type": "code",
      "source": "df.loc[ 'f', 'age'] = 1.5\nprint( df )",
      "metadata": {
        "trusted": true
      },
      "outputs": [
        {
          "name": "stdout",
          "output_type": "stream",
          "text": "  animal  age  visits priority\na    cat  2.5       1      yes\nb    cat  3.0       3      yes\nc  snake  0.5       2       no\nd    dog  NaN       3      yes\ne    dog  5.0       2       no\nf    cat  1.5       3       no\ng  snake  4.5       1       no\nh    cat  NaN       1      yes\ni    dog  7.0       2       no\nj    dog  3.0       1       no\n"
        }
      ],
      "execution_count": 106
    },
    {
      "cell_type": "markdown",
      "source": "**14.** Tính tổng tất cả số lần visits trong `df`.",
      "metadata": {}
    },
    {
      "cell_type": "code",
      "source": "print( df['visits'].sum() )",
      "metadata": {
        "trusted": true
      },
      "outputs": [
        {
          "name": "stdout",
          "output_type": "stream",
          "text": "19\n"
        }
      ],
      "execution_count": 107
    },
    {
      "cell_type": "markdown",
      "source": "**15.** Tính độ tuổi trung bình của mỗi loài động vật khác nhau trong `df`.",
      "metadata": {}
    },
    {
      "cell_type": "code",
      "source": "print( df.groupby('animal')['age'].mean() )",
      "metadata": {
        "trusted": true
      },
      "outputs": [
        {
          "name": "stdout",
          "output_type": "stream",
          "text": "animal\ncat      2.333333\ndog      5.000000\nsnake    2.500000\nName: age, dtype: float64\n"
        }
      ],
      "execution_count": 108
    },
    {
      "cell_type": "markdown",
      "source": "**16.** Thêm một hàng mới 'k' vào `df` với giá trị bạn chọn cho mỗi cột. Sau đó xóa hàng đó để trả về DataFrame gốc.",
      "metadata": {}
    },
    {
      "cell_type": "code",
      "source": "df.loc[ 'k' ] = [ 'bird', 4.0, 5, 'yes']\nprint(df)\nprint()\ndf = df.drop( 'k' )\nprint(df )",
      "metadata": {
        "trusted": true
      },
      "outputs": [
        {
          "name": "stdout",
          "output_type": "stream",
          "text": "  animal  age  visits priority\na    cat  2.5       1      yes\nb    cat  3.0       3      yes\nc  snake  0.5       2       no\nd    dog  NaN       3      yes\ne    dog  5.0       2       no\nf    cat  1.5       3       no\ng  snake  4.5       1       no\nh    cat  NaN       1      yes\ni    dog  7.0       2       no\nj    dog  3.0       1       no\nk   bird  4.0       5      yes\n\n  animal  age  visits priority\na    cat  2.5       1      yes\nb    cat  3.0       3      yes\nc  snake  0.5       2       no\nd    dog  NaN       3      yes\ne    dog  5.0       2       no\nf    cat  1.5       3       no\ng  snake  4.5       1       no\nh    cat  NaN       1      yes\ni    dog  7.0       2       no\nj    dog  3.0       1       no\n"
        }
      ],
      "execution_count": 109
    },
    {
      "cell_type": "markdown",
      "source": "**17.** Đếm số lượng của từng loại động vật trong `df`.",
      "metadata": {}
    },
    {
      "cell_type": "code",
      "source": "print( df['animal'].value_counts() ) ",
      "metadata": {
        "trusted": true
      },
      "outputs": [
        {
          "name": "stdout",
          "output_type": "stream",
          "text": "animal\ncat      4\ndog      4\nsnake    2\nName: count, dtype: int64\n"
        }
      ],
      "execution_count": 110
    },
    {
      "cell_type": "markdown",
      "source": "**18.** Sắp xếp `df` trước tiên theo các giá trị trong 'age' theo thứ tự *giảm dần (decending)*, sau đó theo giá trị trong cột 'visits' theo thứ tự *tăng dần* (do đó, hàng `i` phải là đầu tiên và hàng `d` phải là cuối cùng).",
      "metadata": {}
    },
    {
      "cell_type": "code",
      "source": "df_sorted = df.sort_values( by = ['age', 'visits'], ascending= [False, True] )\nprint( df_sorted )",
      "metadata": {
        "trusted": true
      },
      "outputs": [
        {
          "name": "stdout",
          "output_type": "stream",
          "text": "  animal  age  visits priority\ni    dog  7.0       2       no\ne    dog  5.0       2       no\ng  snake  4.5       1       no\nj    dog  3.0       1       no\nb    cat  3.0       3      yes\na    cat  2.5       1      yes\nf    cat  1.5       3       no\nc  snake  0.5       2       no\nh    cat  NaN       1      yes\nd    dog  NaN       3      yes\n"
        }
      ],
      "execution_count": 111
    },
    {
      "cell_type": "markdown",
      "source": "**19.** Cột 'priority' chứa các giá trị 'yes' và 'no'. Thay thế cột này bằng một cột giá trị boolean: 'yes' phải là `True` và 'no' phải là `False`.",
      "metadata": {}
    },
    {
      "cell_type": "code",
      "source": "temp = df.copy()\ntemp['priority'] = temp['priority'].map( {'yes' : True, 'no' : False})\nprint(temp)",
      "metadata": {
        "trusted": true
      },
      "outputs": [
        {
          "name": "stdout",
          "output_type": "stream",
          "text": "  animal  age  visits  priority\na    cat  2.5       1      True\nb    cat  3.0       3      True\nc  snake  0.5       2     False\nd    dog  NaN       3      True\ne    dog  5.0       2     False\nf    cat  1.5       3     False\ng  snake  4.5       1     False\nh    cat  NaN       1      True\ni    dog  7.0       2     False\nj    dog  3.0       1     False\n"
        }
      ],
      "execution_count": 136
    },
    {
      "cell_type": "markdown",
      "source": "**20.** Trong cột 'animal', hãy đổi mục 'snake' thành 'python'.",
      "metadata": {}
    },
    {
      "cell_type": "code",
      "source": "temp1 = df.copy()\ntemp1['animal'] = temp1['animal'].apply( lambda x : 'python' if x == 'snake' else x)\nprint(temp1)\n\nprint()\n\ntemp2 = df.copy()\ntemp2.loc[ temp2['animal'] == 'snake', 'animal'] = 'python'\nprint(temp2)",
      "metadata": {
        "trusted": true
      },
      "outputs": [
        {
          "name": "stdout",
          "output_type": "stream",
          "text": "   animal  age  visits priority\na     cat  2.5       1      yes\nb     cat  3.0       3      yes\nc  python  0.5       2       no\nd     dog  NaN       3      yes\ne     dog  5.0       2       no\nf     cat  1.5       3       no\ng  python  4.5       1       no\nh     cat  NaN       1      yes\ni     dog  7.0       2       no\nj     dog  3.0       1       no\n\n   animal  age  visits priority\na     cat  2.5       1      yes\nb     cat  3.0       3      yes\nc  python  0.5       2       no\nd     dog  NaN       3      yes\ne     dog  5.0       2       no\nf     cat  1.5       3       no\ng  python  4.5       1       no\nh     cat  NaN       1      yes\ni     dog  7.0       2       no\nj     dog  3.0       1       no\n"
        }
      ],
      "execution_count": 143
    },
    {
      "cell_type": "markdown",
      "source": "**21.** Đối với mỗi loại động vật và mỗi số lần thăm khám, hãy tìm độ tuổi trung bình. Nói cách khác, mỗi hàng là một con vật, mỗi cột là một số lần thăm khám và các giá trị là độ tuổi trung bình (*gợi ý: sử dụng pivot table*).",
      "metadata": {}
    },
    {
      "cell_type": "code",
      "source": "temp3 = df.copy()\npivotTable = temp3.pivot_table( values = 'age', index = 'animal', columns = 'visits', aggfunc = 'mean')\nprint( pivotTable )",
      "metadata": {
        "trusted": true
      },
      "outputs": [
        {
          "name": "stdout",
          "output_type": "stream",
          "text": "visits    1    2     3\nanimal                \ncat     2.5  NaN  2.25\ndog     3.0  6.0   NaN\nsnake   4.5  0.5   NaN\n"
        }
      ],
      "execution_count": 145
    },
    {
      "cell_type": "markdown",
      "source": "## DataFrames: vượt ra ngoài những điều cơ bản\n\n### Khó hơn một chút: bạn có thể cần kết hợp hai hoặc nhiều phương pháp để có được câu trả lời đúng\n\nĐộ khó: *medium*\n\nPhần trước đã giới thiệu một số thao tác DataFrame cơ bản nhưng thiết yếu. Dưới đây là một số cách bạn có thể cần cắt dữ liệu của mình, nhưng không có phương pháp \"sẵn có\" nào.",
      "metadata": {}
    },
    {
      "cell_type": "markdown",
      "source": "**22.** Bạn có một DataFrame `df` với một cột 'A' gồm các số nguyên. Ví dụ:\n```python\ndf = pd.DataFrame({'A': [1, 2, 2, 3, 4, 5, 5, 5, 6, 7, 7]})\n```\n\nLàm thế nào để lọc ra các hàng chứa cùng số nguyên với hàng ngay phía trên?\n\nBạn sẽ thấy một cột chứa các giá trị sau:\n\n```python\n1, 2, 3, 4, 5, 6, 7\n```",
      "metadata": {}
    },
    {
      "cell_type": "code",
      "source": "df1 = pd.DataFrame({'A': [1, 2, 2, 3, 4, 5, 5, 5, 6, 7, 7]})\nunique_row = df1[ df1['A'] != df1['A'].shift() ] \nprint(unique_row)",
      "metadata": {
        "trusted": true
      },
      "outputs": [
        {
          "name": "stdout",
          "output_type": "stream",
          "text": "   A\n0  1\n1  2\n3  3\n4  4\n5  5\n8  6\n9  7\n"
        }
      ],
      "execution_count": 147
    },
    {
      "cell_type": "markdown",
      "source": "**23.** Cho một DataFrame các giá trị số, chẳng hạn\n```python\ndf = pd.DataFrame(np.random.random(size=(5, 3))) # a 5x3 frame of float values\n```\n\nLàm thế nào để trừ giá trị trung bình của hàng khỏi mỗi phần tử trong hàng?",
      "metadata": {}
    },
    {
      "cell_type": "code",
      "source": "df2 = pd.DataFrame(np.random.random(size=(5, 3)))\ndf2 = df2.sub( df2.mean(axis = 1) , axis = 0)\nprint(df2)",
      "metadata": {
        "trusted": true
      },
      "outputs": [
        {
          "name": "stdout",
          "output_type": "stream",
          "text": "          0         1         2\n0  0.403229 -0.077960 -0.325268\n1 -0.045656 -0.337538  0.383194\n2  0.183254 -0.120705 -0.062549\n3 -0.027742 -0.094318  0.122060\n4  0.160142  0.132693 -0.292835\n"
        }
      ],
      "execution_count": 151
    },
    {
      "cell_type": "markdown",
      "source": "**24.** Giả sử bạn có DataFrame với 10 cột số thực, ví dụ:\n\n```python\ndf = pd.DataFrame(np.random.random(size=(5, 10)), columns=list('abcdefghij'))\n```\nCột số nào có tổng nhỏ nhất? Trả về nhãn của cột đó.",
      "metadata": {}
    },
    {
      "cell_type": "code",
      "source": "df3 = pd.DataFrame(np.random.random(size=(5, 10)), columns=list('abcdefghij'))\nmin_sum_col = df3.sum().idxmin()\nprint(df3)\nprint(\"Cột có tổng nhỏ nhất là : \", min_sum_col)",
      "metadata": {
        "trusted": true
      },
      "outputs": [
        {
          "name": "stdout",
          "output_type": "stream",
          "text": "          a         b         c         d         e         f         g  \\\n0  0.658400  0.201154  0.539701  0.793933  0.626549  0.927142  0.214691   \n1  0.285069  0.523604  0.699175  0.227314  0.430705  0.944452  0.109761   \n2  0.839250  0.473663  0.672724  0.686797  0.522682  0.377046  0.185280   \n3  0.651234  0.271269  0.858177  0.533101  0.488003  0.573277  0.822968   \n4  0.009817  0.671484  0.617913  0.012339  0.309849  0.594983  0.833030   \n\n          h         i         j  \n0  0.098714  0.371328  0.070810  \n1  0.190647  0.140394  0.430602  \n2  0.854302  0.052218  0.681066  \n3  0.371299  0.742701  0.462881  \n4  0.191306  0.923244  0.258390  \nCột có tổng nhỏ nhất là :  h\n"
        }
      ],
      "execution_count": 155
    },
    {
      "cell_type": "markdown",
      "source": "**25.** Làm thế nào để đếm số lượng hàng duy nhất mà một DataFrame có (tức là bỏ qua tất cả các hàng trùng lặp)? Khi nhập, hãy sử dụng DataFrame gồm số không và số một với 10 hàng và 3 cột.\n\n```python\ndf = pd.DataFrame(np.random.randint(0, 2, size=(10, 3)))\n```",
      "metadata": {}
    },
    {
      "cell_type": "code",
      "source": "df4 = pd.DataFrame(np.random.randint(0, 2, size=(10, 3)))\nunique_row = df4.drop_duplicates()\nprint( unique_row )\nprint()\nunique_row = unique_row.shape[0] #đếm số lượng hàng\nprint( unique_row )",
      "metadata": {
        "trusted": true
      },
      "outputs": [
        {
          "name": "stdout",
          "output_type": "stream",
          "text": "   0  1  2\n0  0  0  0\n1  0  0  1\n2  1  1  0\n3  1  1  1\n8  1  0  0\n9  1  0  1\n\n6\n"
        }
      ],
      "execution_count": 161
    },
    {
      "cell_type": "code",
      "source": "",
      "metadata": {
        "trusted": true
      },
      "outputs": [],
      "execution_count": null
    }
  ]
}