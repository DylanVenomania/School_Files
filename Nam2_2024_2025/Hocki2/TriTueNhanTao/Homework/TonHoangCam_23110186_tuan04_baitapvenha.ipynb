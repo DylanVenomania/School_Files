{
  "metadata": {
    "kernelspec": {
      "name": "python",
      "display_name": "Python (Pyodide)",
      "language": "python"
    },
    "language_info": {
      "codemirror_mode": {
        "name": "python",
        "version": 3
      },
      "file_extension": ".py",
      "mimetype": "text/x-python",
      "name": "python",
      "nbconvert_exporter": "python",
      "pygments_lexer": "ipython3",
      "version": "3.8"
    }
  },
  "nbformat_minor": 4,
  "nbformat": 4,
  "cells": [
    {
      "cell_type": "markdown",
      "source": "## Importing pandas\n\n### Bắt đầu và kiểm tra thiết lập pandas của bạn\n\nMức độ: *easy* \n\n**1.** Import pandas dưới bí danh `pd`.",
      "metadata": {}
    },
    {
      "cell_type": "code",
      "source": "import pandas as pd",
      "metadata": {
        "trusted": true
      },
      "outputs": [],
      "execution_count": 2
    },
    {
      "cell_type": "markdown",
      "source": "Ba câu tiếp theo khó hơn một chút.\n\n\n**26.** Trong ô bên dưới, bạn có một DataFrame `df` bao gồm 10 cột số dấu phẩy động. Chính xác 5 mục trong mỗi hàng là giá trị NaN.\n\nĐối với mỗi hàng của DataFrame, hãy tìm *cột* chứa giá trị NaN *thứ ba*.\n\nBạn nên trả về một Chuỗi nhãn cột: `e, c, d, h, d`",
      "metadata": {}
    },
    {
      "cell_type": "code",
      "source": "import numpy as np\nnan = np.nan\n\ndata = [[0.04,  nan,  nan, 0.25,  nan, 0.43, 0.71, 0.51,  nan,  nan],\n        [ nan,  nan,  nan, 0.04, 0.76,  nan,  nan, 0.67, 0.76, 0.16],\n        [ nan,  nan, 0.5 ,  nan, 0.31, 0.4 ,  nan,  nan, 0.24, 0.01],\n        [0.49,  nan,  nan, 0.62, 0.73, 0.26, 0.85,  nan,  nan,  nan],\n        [ nan,  nan, 0.41,  nan, 0.05,  nan, 0.61,  nan, 0.48, 0.68]]\n\ncolumns = list('abcdefghij')\n\ndf = pd.DataFrame(data, columns=columns)\n\n# viết một giải pháp cho câu hỏi ở đây\nketqua = df.isna().cumsum( axis = 1).eq(3).idxmax( axis = 1)\nprint( ketqua )",
      "metadata": {
        "trusted": true
      },
      "outputs": [
        {
          "name": "stdout",
          "output_type": "stream",
          "text": "0    e\n1    c\n2    d\n3    h\n4    d\ndtype: object\n"
        }
      ],
      "execution_count": 3
    },
    {
      "cell_type": "markdown",
      "source": "**27.** A DataFrame has a column of groups 'grps' and and column of integer values 'vals': \n\n```python\ndf = pd.DataFrame({'grps': list('aaabbcaabcccbbc'), \n                   'vals': [12,345,3,1,45,14,4,52,54,23,235,21,57,3,87]})\n```\nFor each *group*, find the sum of the three greatest values. You should end up with the answer as follows:\n```\ngrps\na    409\nb    156\nc    345\n```",
      "metadata": {}
    },
    {
      "cell_type": "code",
      "source": "df1 = pd.DataFrame({'grps': list('aaabbcaabcccbbc'), \n                   'vals': [12,345,3,1,45,14,4,52,54,23,235,21,57,3,87]})\n\n# write a solution to the question here\n\nketqua = df1.groupby('grps')['vals'].apply( lambda x: x.nlargest(3).sum() )\n\nprint(ketqua)",
      "metadata": {
        "trusted": true
      },
      "outputs": [
        {
          "name": "stdout",
          "output_type": "stream",
          "text": "grps\na    409\nb    156\nc    345\nName: vals, dtype: int64\n"
        }
      ],
      "execution_count": 4
    },
    {
      "cell_type": "markdown",
      "source": "**28.** DataFrame `df` được xây dựng bên dưới có hai cột số nguyên 'A' và 'B'. Các giá trị trong 'A' nằm trong khoảng từ 1 đến 100 (bao gồm). \n\nĐối với mỗi nhóm 10 số nguyên liên tiếp trong 'A' (tức là `(0, 10]`, `(10, 20]`, ...), hãy tính tổng các giá trị tương ứng trong cột 'B'.\n\nCâu trả lời sẽ là một Series như sau:\n\n```\nA\n(0, 10]      635\n(10, 20]     360\n(20, 30]     315\n(30, 40]     306\n(40, 50]     750\n(50, 60]     284\n(60, 70]     424\n(70, 80]     526\n(80, 90]     835\n(90, 100]    852\n```",
      "metadata": {}
    },
    {
      "cell_type": "code",
      "source": "import pandas as pd\ndf2 = pd.DataFrame(np.random.RandomState(8765).randint(1, 101, size=(100, 2)), columns = [\"A\", \"B\"])\n\n# viết một giải pháp cho câu hỏi ở đây\ndf2['A_bins'] = pd.cut(  df2['A'], bins = range(0, 110, 10) )\n\nketqua = df2.groupby('A_bins', observed = False)['B'].sum()\nprint(ketqua)",
      "metadata": {
        "trusted": true
      },
      "outputs": [
        {
          "name": "stdout",
          "output_type": "stream",
          "text": "A_bins\n(0, 10]      635\n(10, 20]     360\n(20, 30]     315\n(30, 40]     306\n(40, 50]     750\n(50, 60]     284\n(60, 70]     424\n(70, 80]     526\n(80, 90]     835\n(90, 100]    852\nName: B, dtype: int32\n"
        }
      ],
      "execution_count": 5
    },
    {
      "cell_type": "markdown",
      "source": "## DataFrames: những vấn đề khó hơn \n\n### Những điều này có thể đòi hỏi một chút suy nghĩ vượt ra ngoài khuôn khổ...\n\n...nhưng tất cả đều có thể giải quyết được chỉ bằng các phương pháp pandas/NumPy thông thường (và do đó tránh sử dụng vòng lặp `for` rõ ràng)..\n\nMức độ: *hard*",
      "metadata": {}
    },
    {
      "cell_type": "markdown",
      "source": "**29.** Hãy xem xét DataFrame `df` trong đó có một cột số nguyên 'X':\n```python\ndf = pd.DataFrame({'X': [7, 2, 0, 3, 4, 2, 5, 0, 3, 4]})\n```\nĐối với mỗi giá trị, hãy đếm ngược lại sự khác biệt đến số không trước đó (hoặc thời điểm bắt đầu của Series, tùy theo giá trị nào gần hơn). Do đó, các giá trị này phải là\n\n```\n[1, 2, 0, 1, 2, 3, 4, 0, 1, 2]\n```\n\nTạo cột mới này thành cột 'Y'.",
      "metadata": {}
    },
    {
      "cell_type": "code",
      "source": "df3 = pd.DataFrame({'X': [7, 2, 0, 3, 4, 2, 5, 0, 3, 4]})\n\ngroup = df3['X'].eq(0).cumsum()\n\ndf3['Y'] = df3.groupby(group).cumcount(ascending=True) + 1 # Tính thứ tự ngược lại trong mỗi nhóm\n\ndf3.loc[df3['X'] == 0, 'Y'] = 0\nprint( df3 )",
      "metadata": {
        "trusted": true
      },
      "outputs": [
        {
          "name": "stdout",
          "output_type": "stream",
          "text": "   X  Y\n0  7  1\n1  2  2\n2  0  0\n3  3  2\n4  4  3\n5  2  4\n6  5  5\n7  0  0\n8  3  2\n9  4  3\n"
        }
      ],
      "execution_count": 23
    },
    {
      "cell_type": "markdown",
      "source": "**30.** Hãy xem xét DataFrame được xây dựng bên dưới chứa các hàng và cột dữ liệu số. \n\nTạo danh sách các vị trí chỉ mục hàng-cột của 3 giá trị lớn nhất trong DataFrame này. Trong trường hợp này, câu trả lời sẽ là:\n```\n[(5, 7), (6, 4), (2, 5)]\n```",
      "metadata": {}
    },
    {
      "cell_type": "code",
      "source": "df4 = pd.DataFrame(np.random.RandomState(30).randint(1, 101, size=(8, 8)))\n\ndf4_unstack = df4.unstack()\nlargest_position = df4_unstack.nlargest(3).index.tolist()\nprint( largest_position  )",
      "metadata": {
        "trusted": true
      },
      "outputs": [
        {
          "name": "stdout",
          "output_type": "stream",
          "text": "[(2, 5), (5, 7), (6, 4)]\n"
        }
      ],
      "execution_count": 27
    },
    {
      "cell_type": "markdown",
      "source": "**31.** Bạn được cung cấp DataFrame bên dưới với một cột ID nhóm, 'grps', và một cột chứa các giá trị số nguyên tương ứng, 'vals'.\n\n```python\ndf = pd.DataFrame({\"vals\": np.random.RandomState(31).randint(-30, 30, size=15), \n                   \"grps\": np.random.RandomState(31).choice([\"A\", \"B\"], 15)})\n```\n\nTạo một cột mới 'patched_values' chứa các giá trị giống như 'vals' bất kỳ giá trị âm nào trong 'vals' với nhóm mean:\n\n```\n    vals grps  patched_vals\n0    -12    A          13.6\n1     -7    B          28.0\n2    -14    A          13.6\n3      4    A           4.0\n4     -7    A          13.6\n5     28    B          28.0\n6     -2    A          13.6\n7     -1    A          13.6\n8      8    A           8.0\n9     -2    B          28.0\n10    28    A          28.0\n11    12    A          12.0\n12    16    A          16.0\n13   -24    A          13.6\n14   -12    A          13.6\n```",
      "metadata": {}
    },
    {
      "cell_type": "code",
      "source": "df5 = pd.DataFrame({\"vals\": np.random.RandomState(31).randint(-30, 30, size=15), \n                   \"grps\": np.random.RandomState(31).choice([\"A\", \"B\"], 15)})\n\ntrungbinh_group = df5.groupby('grps')['vals'].mean()\ndf5[\"patched_vals\"] = df5.apply(lambda row: trungbinh_group[row[\"grps\"]] if row[\"vals\"] < 0 else row[\"vals\"], axis=1)\n\nprint(df5)",
      "metadata": {
        "trusted": true
      },
      "outputs": [
        {
          "name": "stdout",
          "output_type": "stream",
          "text": "    vals grps  patched_vals\n0    -12    A     -0.333333\n1     -7    B      6.333333\n2    -14    A     -0.333333\n3      4    A      4.000000\n4     -7    A     -0.333333\n5     28    B     28.000000\n6     -2    A     -0.333333\n7     -1    A     -0.333333\n8      8    A      8.000000\n9     -2    B      6.333333\n10    28    A     28.000000\n11    12    A     12.000000\n12    16    A     16.000000\n13   -24    A     -0.333333\n14   -12    A     -0.333333\n"
        }
      ],
      "execution_count": 33
    },
    {
      "cell_type": "markdown",
      "source": "**32.** Triển khai giá trị trung bình lăn trên các nhóm có kích thước cửa sổ là 3, bỏ qua giá trị NaN. Ví dụ, hãy xem xét DataFrame sau:\n\n```python\n>>> df = pd.DataFrame({'group': list('aabbabbbabab'),\n                       'value': [1, 2, 3, np.nan, 2, 3, np.nan, 1, 7, 3, np.nan, 8]})\n>>> df\n   group  value\n0      a    1.0\n1      a    2.0\n2      b    3.0\n3      b    NaN\n4      a    2.0\n5      b    3.0\n6      b    NaN\n7      b    1.0\n8      a    7.0\n9      b    3.0\n10     a    NaN\n11     b    8.0\n```\nMục tiêu là tính toán Series:\n\n```\n0     1.000000\n1     1.500000\n2     3.000000\n3     3.000000\n4     1.666667\n5     3.000000\n6     3.000000\n7     2.000000\n8     3.666667\n9     2.000000\n10    4.500000\n11    4.000000\n```\nE.g. cửa sổ đầu tiên có kích thước ba cho nhóm 'b' có các giá trị 3.0, NaN và 3.0 và xuất hiện ở chỉ mục hàng 5. Thay vì là NaN, giá trị trong cột mới ở chỉ mục hàng này phải là 3.0 (chỉ sử dụng hai giá trị không phải NaN để tính giá trị trung bình (3+3)/2)",
      "metadata": {}
    },
    {
      "cell_type": "code",
      "source": "df6 = pd.DataFrame({'group': list('aabbabbbabab'),\n                       'value': [1, 2, 3, np.nan, 2, 3, np.nan, 1, 7, 3, np.nan, 8]})\n\ndf6['rolling_mean'] = df6.groupby('group')['value'].transform(lambda x: x.rolling(window = 3, min_periods = 1).mean()  )\n\nprint(df6)",
      "metadata": {
        "trusted": true
      },
      "outputs": [
        {
          "name": "stdout",
          "output_type": "stream",
          "text": "   group  value  rolling_mean\n0      a    1.0      1.000000\n1      a    2.0      1.500000\n2      b    3.0      3.000000\n3      b    NaN      3.000000\n4      a    2.0      1.666667\n5      b    3.0      3.000000\n6      b    NaN      3.000000\n7      b    1.0      2.000000\n8      a    7.0      3.666667\n9      b    3.0      2.000000\n10     a    NaN      4.500000\n11     b    8.0      4.000000\n"
        }
      ],
      "execution_count": 6
    },
    {
      "cell_type": "markdown",
      "source": "## Series and DatetimeIndex\n\n### Bài tập tạo và thao tác Series với dữ liệu ngày giờ\n\nMức độ: *easy/medium*\n\npandas rất tuyệt vời để làm việc với ngày tháng và thời gian. Những câu đố này khám phá một số chức năng này.\n",
      "metadata": {}
    },
    {
      "cell_type": "markdown",
      "source": "**33.** Tạo một DatetimeIndex chứa mỗi ngày làm việc của năm 2015 và sử dụng nó để lập chỉ mục cho một Series số ngẫu nhiên. Chúng ta hãy gọi Series này là `s`.",
      "metadata": {}
    },
    {
      "cell_type": "code",
      "source": "import pandas as pd\nimport numpy\ndate = pd.bdate_range(start = '2015-01-01', end = '2015-12-31')\n\ns = pd.Series(np.random.randn( len(date)), index = date )\n\nprint( s )",
      "metadata": {
        "trusted": true
      },
      "outputs": [
        {
          "name": "stdout",
          "output_type": "stream",
          "text": "2015-01-01    0.981890\n2015-01-02   -0.596613\n2015-01-05   -3.367266\n2015-01-06    0.144311\n2015-01-07   -0.358256\n                ...   \n2015-12-25   -0.719155\n2015-12-28    0.827802\n2015-12-29   -1.510845\n2015-12-30    0.288308\n2015-12-31   -0.996281\nFreq: B, Length: 261, dtype: float64\n"
        }
      ],
      "execution_count": 39
    },
    {
      "cell_type": "markdown",
      "source": "**34.** Tìm tổng các giá trị trong `s` của mỗi thứ Wednesday.",
      "metadata": {}
    },
    {
      "cell_type": "code",
      "source": "wednesday = s[ s.index.weekday == 2 ]\nsum_wednesday = wednesday.sum()\nprint(sum_wednesday) ",
      "metadata": {
        "trusted": true
      },
      "outputs": [
        {
          "name": "stdout",
          "output_type": "stream",
          "text": "7.842920028051302\n"
        }
      ],
      "execution_count": 40
    },
    {
      "cell_type": "markdown",
      "source": "**35.** Đối với mỗi tháng dương lịch trong `s`, hãy tìm giá trị trung bình.",
      "metadata": {}
    },
    {
      "cell_type": "code",
      "source": "avg_month1 = s.groupby( s.index.month).mean()\nprint( avg_month1 )\n\nprint()\n\navg_month2 = s.resample('ME').mean()\nprint( avg_month2)",
      "metadata": {
        "trusted": true
      },
      "outputs": [
        {
          "name": "stdout",
          "output_type": "stream",
          "text": "1    -0.286552\n2     0.298895\n3     0.250791\n4    -0.196747\n5    -0.185335\n6    -0.168208\n7    -0.205844\n8    -0.068791\n9     0.131703\n10    0.564272\n11   -0.000753\n12    0.091323\ndtype: float64\n\n2015-01-31   -0.286552\n2015-02-28    0.298895\n2015-03-31    0.250791\n2015-04-30   -0.196747\n2015-05-31   -0.185335\n2015-06-30   -0.168208\n2015-07-31   -0.205844\n2015-08-31   -0.068791\n2015-09-30    0.131703\n2015-10-31    0.564272\n2015-11-30   -0.000753\n2015-12-31    0.091323\nFreq: ME, dtype: float64\n"
        }
      ],
      "execution_count": 41
    },
    {
      "cell_type": "markdown",
      "source": "**36.**Đối với mỗi nhóm bốn tháng liên tiếp trong lịch `s`, hãy tìm ngày có giá trị cao nhất.",
      "metadata": {}
    },
    {
      "cell_type": "code",
      "source": "print ( s.resample( '4ME' ).apply( lambda x: x.idxmax() ) )\n",
      "metadata": {
        "trusted": true
      },
      "outputs": [
        {
          "name": "stdout",
          "output_type": "stream",
          "text": "2015-01-31   2015-01-22\n2015-05-31   2015-02-06\n2015-09-30   2015-08-24\n2016-01-31   2015-11-06\nFreq: 4ME, dtype: datetime64[ns]\n"
        }
      ],
      "execution_count": 42
    },
    {
      "cell_type": "markdown",
      "source": "**37.** Tạo DateTimeIndex bao gồm thứ Năm tuần thứ ba của mỗi tháng trong các năm 2015 và 2016.",
      "metadata": {}
    },
    {
      "cell_type": "code",
      "source": "from dateutil.rrule import rrule, MONTHLY, TH\nfrom datetime import datetime\ndates = list( rrule( freq = MONTHLY, dtstart = datetime(2015, 1, 1), until = datetime(2016, 12, 31), byweekday = TH(2) ) )\n\nketqua = pd.DatetimeIndex( dates )\nprint(ketqua)",
      "metadata": {
        "trusted": true
      },
      "outputs": [
        {
          "name": "stdout",
          "output_type": "stream",
          "text": "DatetimeIndex(['2015-01-08', '2015-02-12', '2015-03-12', '2015-04-09',\n               '2015-05-14', '2015-06-11', '2015-07-09', '2015-08-13',\n               '2015-09-10', '2015-10-08', '2015-11-12', '2015-12-10',\n               '2016-01-14', '2016-02-11', '2016-03-10', '2016-04-14',\n               '2016-05-12', '2016-06-09', '2016-07-14', '2016-08-11',\n               '2016-09-08', '2016-10-13', '2016-11-10', '2016-12-08'],\n              dtype='datetime64[ns]', freq=None)\n"
        }
      ],
      "execution_count": 44
    },
    {
      "cell_type": "markdown",
      "source": "## Làm sạch dữ liệu\n\n### Làm cho DataFrame dễ làm việc hơn\n\nMức độ: *easy/medium*\n\nĐiều này xảy ra thường xuyên: ai đó cung cấp cho bạn dữ liệu chứa chuỗi string không đúng định dạng, Python, danh sách và dữ liệu bị thiếu. Làm thế nào để bạn sắp xếp chúng để có thể tiếp tục phân tích?\n\nHãy coi cái được cung cấp này như DataFrame để sử dụng trong các câu sau:\n\n```python\ndf = pd.DataFrame({'From_To': ['LoNDon_paris', 'MAdrid_miLAN', 'londON_StockhOlm', \n                               'Budapest_PaRis', 'Brussels_londOn'],\n              'FlightNumber': [10045, np.nan, 10065, np.nan, 10085],\n              'RecentDelays': [[23, 47], [], [24, 43, 87], [13], [67, 32]],\n                   'Airline': ['KLM(!)', '<Air France> (12)', '(British Airways. )', \n                               '12. Air France', '\"Swiss Air\"']})\n```\nĐược định dạng, nó trông như thế này:\n\n```\n            From_To  FlightNumber  RecentDelays              Airline\n0      LoNDon_paris       10045.0      [23, 47]               KLM(!)\n1      MAdrid_miLAN           NaN            []    <Air France> (12)\n2  londON_StockhOlm       10065.0  [24, 43, 87]  (British Airways. )\n3    Budapest_PaRis           NaN          [13]       12. Air France\n4   Brussels_londOn       10085.0      [67, 32]          \"Swiss Air\"\n```\n\n\n(Đây là một số dữ liệu chuyến bay do tác giả bịa ra; nó không có mục đích chính xác theo bất kỳ cách nào.)\n",
      "metadata": {}
    },
    {
      "cell_type": "markdown",
      "source": "**38.** Một số giá trị trong cột **FlightNumber** bị thiếu (chúng là `NaN`). Những con số này có nghĩa là tăng thêm 10 với mỗi hàng nên cần phải đặt 10055 và 10075 vào vị trí. Sửa đổi `df` để điền vào những con số bị thiếu này và biến cột thành một cột số nguyên (thay vì một cột số thực).",
      "metadata": {}
    },
    {
      "cell_type": "code",
      "source": "import pandas as pd\nimport numpy as np\n\ndf_flight = pd.DataFrame({'From_To': ['LoNDon_paris', 'MAdrid_miLAN', 'londON_StockhOlm', \n                               'Budapest_PaRis', 'Brussels_londOn'],\n              'FlightNumber': [10045, np.nan, 10065, np.nan, 10085],\n              'RecentDelays': [[23, 47], [], [24, 43, 87], [13], [67, 32]],\n                   'Airline': ['KLM(!)', '<Air France> (12)', '(British Airways. )', \n                               '12. Air France', '\"Swiss Air\"']})\n\ndf_flight[ 'FlightNumber' ] = df_flight['FlightNumber'].interpolate().astype(int)\nprint(df_flight)",
      "metadata": {
        "trusted": true
      },
      "outputs": [
        {
          "name": "stdout",
          "output_type": "stream",
          "text": "            From_To  FlightNumber  RecentDelays              Airline\n0      LoNDon_paris         10045      [23, 47]               KLM(!)\n1      MAdrid_miLAN         10055            []    <Air France> (12)\n2  londON_StockhOlm         10065  [24, 43, 87]  (British Airways. )\n3    Budapest_PaRis         10075          [13]       12. Air France\n4   Brussels_londOn         10085      [67, 32]          \"Swiss Air\"\n"
        }
      ],
      "execution_count": 78
    },
    {
      "cell_type": "markdown",
      "source": "**39.** Cột **From\\_To** sẽ tốt hơn nếu là hai cột riêng biệt! Tách từng chuỗi trên dấu gạch dưới `_` để tạo một DataFrame tạm thời mới có tên là 'temp' với các giá trị chính xác. Gán tên cột chính xác 'From' và 'To' cho DataFrame tạm thời này.",
      "metadata": {}
    },
    {
      "cell_type": "code",
      "source": "temp = df_flight['From_To'].str.split( '_', expand = True)\n\ntemp.columns = ['From', 'To']\nprint( temp )",
      "metadata": {
        "trusted": true
      },
      "outputs": [
        {
          "name": "stdout",
          "output_type": "stream",
          "text": "       From         To\n0    LoNDon      paris\n1    MAdrid      miLAN\n2    londON  StockhOlm\n3  Budapest      PaRis\n4  Brussels     londOn\n"
        }
      ],
      "execution_count": 79
    },
    {
      "cell_type": "markdown",
      "source": "**40.** Lưu ý cách viết hoa tên thành phố được trộn lẫn trong DataFrame tạm thời này 'temp'. Chuẩn hóa các chuỗi sao cho chỉ có chữ cái đầu tiên là chữ hoa (ví dụ: \"londON\" sẽ trở thành \"London\".)",
      "metadata": {}
    },
    {
      "cell_type": "code",
      "source": "temp['From'] = temp['From'].str.title()\ntemp['To'] = temp['To'].str.title()\n\nprint(temp)",
      "metadata": {
        "trusted": true
      },
      "outputs": [
        {
          "name": "stdout",
          "output_type": "stream",
          "text": "       From         To\n0    London      Paris\n1    Madrid      Milan\n2    London  Stockholm\n3  Budapest      Paris\n4  Brussels     London\n"
        }
      ],
      "execution_count": 80
    },
    {
      "cell_type": "markdown",
      "source": "**41.** Xóa cột **From_To** khỏi `df` và đính kèm DataFrame tạm thời 'temp' từ các câu hỏi trước đó.",
      "metadata": {}
    },
    {
      "cell_type": "code",
      "source": "df_flight = df_flight.drop( columns = 'From_To')\ndf_flight = pd.concat( [df_flight, temp], axis = 1)\nprint(df_flight)",
      "metadata": {
        "trusted": true
      },
      "outputs": [
        {
          "name": "stdout",
          "output_type": "stream",
          "text": "   FlightNumber  RecentDelays              Airline      From         To\n0         10045      [23, 47]               KLM(!)    London      Paris\n1         10055            []    <Air France> (12)    Madrid      Milan\n2         10065  [24, 43, 87]  (British Airways. )    London  Stockholm\n3         10075          [13]       12. Air France  Budapest      Paris\n4         10085      [67, 32]          \"Swiss Air\"  Brussels     London\n"
        }
      ],
      "execution_count": 81
    },
    {
      "cell_type": "markdown",
      "source": "**42**. Trong cột **Airline**, bạn có thể thấy một số dấu câu và ký hiệu bổ sung xuất hiện xung quanh tên hãng hàng không. Thực hiện chính xác hóa tên hãng hàng không. Ví dụ: `'(British Airways. )'` phải trở thành `'British Airways'`.",
      "metadata": {}
    },
    {
      "cell_type": "code",
      "source": "import re\ndf_flight['Airline'] = df_flight['Airline'].str.replace(r'[^a-zA-Z\\n]', '', regex = True).str.strip()\nprint(df_flight)",
      "metadata": {
        "trusted": true
      },
      "outputs": [
        {
          "name": "stdout",
          "output_type": "stream",
          "text": "   FlightNumber  RecentDelays         Airline      From         To\n0         10045      [23, 47]             KLM    London      Paris\n1         10055            []       AirFrance    Madrid      Milan\n2         10065  [24, 43, 87]  BritishAirways    London  Stockholm\n3         10075          [13]       AirFrance  Budapest      Paris\n4         10085      [67, 32]        SwissAir  Brussels     London\n"
        }
      ],
      "execution_count": 82
    },
    {
      "cell_type": "markdown",
      "source": "**43**. Trong cột RecentDelays, các giá trị đã được nhập vào DataFrame dưới dạng danh sách. Chúng tôi muốn mỗi giá trị đầu tiên trong cột riêng của nó, mỗi giá trị thứ hai trong cột riêng của nó, v.v. Nếu không có giá trị thứ N, giá trị sẽ là NaN.\n\nMở rộng Series của các danh sách thành một DataFrame có tên là `delays`, đổi tên các cột `delay_1`, `delay_2`, v.v. và thay thế cột RecentDelays không mong muốn trong `df` bằng `delays`.",
      "metadata": {}
    },
    {
      "cell_type": "code",
      "source": "delay_array = pd.DataFrame( df_flight['RecentDelays'].to_list() )\n\ndelay_array.columns = [ f'delay {i+1}' for i in range(delay_array.shape[1]) ]\n\ndf_flight = pd.concat( [df_flight, delay_array], axis = 1)\n\ndf_flight = df_flight.drop( columns = 'RecentDelays' )\nprint(df_flight)",
      "metadata": {
        "trusted": true
      },
      "outputs": [
        {
          "name": "stdout",
          "output_type": "stream",
          "text": "   FlightNumber         Airline      From         To  delay 1  delay 2  \\\n0         10045             KLM    London      Paris     23.0     47.0   \n1         10055       AirFrance    Madrid      Milan      NaN      NaN   \n2         10065  BritishAirways    London  Stockholm     24.0     43.0   \n3         10075       AirFrance  Budapest      Paris     13.0      NaN   \n4         10085        SwissAir  Brussels     London     67.0     32.0   \n\n   delay 3  \n0      NaN  \n1      NaN  \n2     87.0  \n3      NaN  \n4      NaN  \n"
        }
      ],
      "execution_count": 83
    },
    {
      "cell_type": "markdown",
      "source": "Bây giờ DataFrame sẽ trông đẹp hơn nhiều.\n```\n   FlightNumber          Airline      From         To  delay_1  delay_2  delay_3\n0         10045              KLM    London      Paris     23.0     47.0      NaN\n1         10055       Air France    Madrid      Milan      NaN      NaN      NaN\n2         10065  British Airways    London  Stockholm     24.0     43.0     87.0\n3         10075       Air France  Budapest      Paris     13.0      NaN      NaN\n4         10085        Swiss Air  Brussels     London     67.0     32.0      NaN\n```",
      "metadata": {}
    },
    {
      "cell_type": "markdown",
      "source": "## Sử dụng MultiIndexes\n\n### Vượt ra ngoài DataFrames phẳng với các cấp chỉ mục bổ sung\n\nMức độ: *medium*\n\nCác bài tập trước đây đã cho chúng ta thấy việc phân tích dữ liệu từ DataFrames được trang bị một mức chỉ mục duy nhất. Tuy nhiên, pandas cũng cung cấp cho bạn khả năng lập chỉ mục dữ liệu của mình bằng cách sử dụng *multiple* mức. Điều này rất giống với việc thêm các chiều mới vào một Series hoặc một DataFrame. Ví dụ, một Series là 1D, nhưng bằng cách sử dụng MultiIndex với 2 mức, chúng ta có được chức năng tương tự như một DataFrame 2D.\n\nBộ câu hỏi dưới đây khám phá cách bạn có thể sử dụng nhiều cấp chỉ mục để nâng cao khả năng phân tích dữ liệu.\n\nĐể khởi động, chúng ta sẽ xem xét một Series có hai mức chỉ số.",
      "metadata": {
        "collapsed": true,
        "jupyter": {
          "outputs_hidden": true
        }
      }
    },
    {
      "cell_type": "markdown",
      "source": "**44**. Với các danh sách `letters = ['A', 'B', 'C']` và `numbers = list(range(10))`, hãy xây dựng một đối tượng MultiIndex từ tích của hai danh sách. Sử dụng nó để lập chỉ mục cho một Series các số ngẫu nhiên. Gọi Series này là `s`.",
      "metadata": {}
    },
    {
      "cell_type": "code",
      "source": "import pandas as pd\nimport numpy as np\n\nletters = ['A', 'B', 'C'] \nnumbers = list(range(10))\n\nmulti_index = pd.MultiIndex.from_product( [letters, numbers], names = ['Letter', 'Number'])\n\nS = pd.Series( np.random.randn( len(multi_index)) , index = multi_index)\n\nprint(S)",
      "metadata": {
        "trusted": true
      },
      "outputs": [
        {
          "name": "stdout",
          "output_type": "stream",
          "text": "Letter  Number\nA       0         0.600053\n        1        -1.179745\n        2         0.062238\n        3         0.758804\n        4        -0.576863\n        5         1.789857\n        6         0.604582\n        7        -0.315812\n        8         0.394202\n        9        -1.080539\nB       0        -1.338543\n        1        -0.303246\n        2         1.059383\n        3         0.930830\n        4        -2.045441\n        5        -0.892134\n        6         0.145775\n        7        -1.335761\n        8        -1.587472\n        9         0.851058\nC       0         0.295509\n        1         1.360659\n        2        -0.028519\n        3         0.826696\n        4         0.108576\n        5        -0.857767\n        6        -1.035032\n        7         1.650751\n        8        -1.423043\n        9         0.077356\ndtype: float64\n"
        }
      ],
      "execution_count": 84
    },
    {
      "cell_type": "markdown",
      "source": "**45.** Kiểm tra xem chỉ mục của `s` có được sắp xếp theo thứ tự từ điển hay không (đây là thuộc tính cần thiết để lập chỉ mục hoạt động chính xác với MultiIndex).",
      "metadata": {}
    },
    {
      "cell_type": "code",
      "source": "if ( S.index.is_monotonic_increasing == True ):\n    print('Chỉ mục đã được sắp xếp theo thứ tự từ điển')\nelse:\n    print('Chỉ mục chưa được sắp xếp theo thứ tự từ điển')",
      "metadata": {
        "trusted": true
      },
      "outputs": [
        {
          "name": "stdout",
          "output_type": "stream",
          "text": "Chỉ mục đã được sắp xếp theo thứ tự từ điển\n"
        }
      ],
      "execution_count": 85
    },
    {
      "cell_type": "markdown",
      "source": "**46**. Chọn các nhãn `1`, `3` và `6` từ cấp độ thứ hai của MultiIndexed Series.",
      "metadata": {}
    },
    {
      "cell_type": "code",
      "source": "S_filtered = S.loc[ :, [1,3,6] ]\nprint( S_filtered )",
      "metadata": {
        "trusted": true
      },
      "outputs": [
        {
          "name": "stdout",
          "output_type": "stream",
          "text": "Letter  Number\nA       1        -1.179745\n        3         0.758804\n        6         0.604582\nB       1        -0.303246\n        3         0.930830\n        6         0.145775\nC       1         1.360659\n        3         0.826696\n        6        -1.035032\ndtype: float64\n"
        }
      ],
      "execution_count": 88
    },
    {
      "cell_type": "markdown",
      "source": "**47**. Cắt các Series `s`; cắt đến nhãn 'B' cho cấp độ đầu tiên và từ nhãn 5 trở đi cho cấp độ thứ hai.",
      "metadata": {}
    },
    {
      "cell_type": "code",
      "source": "S_cut = S.loc[ 'B': , 5:]\n\nprint(S_cut )",
      "metadata": {
        "trusted": true
      },
      "outputs": [
        {
          "name": "stdout",
          "output_type": "stream",
          "text": "Letter  Number\nB       5        -0.892134\n        6         0.145775\n        7        -1.335761\n        8        -1.587472\n        9         0.851058\nC       5        -0.857767\n        6        -1.035032\n        7         1.650751\n        8        -1.423043\n        9         0.077356\ndtype: float64\n"
        }
      ],
      "execution_count": 89
    },
    {
      "cell_type": "markdown",
      "source": "**48**. Tính tổng các giá trị trong `s` cho mỗi nhãn ở cấp độ đầu tiên (bạn sẽ có Series cung cấp tổng cho các nhãn A, B và C).",
      "metadata": {}
    },
    {
      "cell_type": "code",
      "source": "S_sum1 = S.groupby( level = 0 ).sum()\n\nprint(S_sum1)\nprint()\n\nS_sum2 = S.unstack().sum( axis = 1 )\nprint(S_sum2)\n",
      "metadata": {
        "trusted": true
      },
      "outputs": [
        {
          "name": "stdout",
          "output_type": "stream",
          "text": "Letter\nA    1.056779\nB   -4.515551\nC    0.975186\ndtype: float64\n\nLetter\nA    1.056779\nB   -4.515551\nC    0.975186\ndtype: float64\n"
        }
      ],
      "execution_count": 94
    },
    {
      "cell_type": "markdown",
      "source": "**49**. Giả sử `sum()` (và các phương pháp khác) không chấp nhận đối số từ khóa `level`. Bạn có thể thực hiện tương đương với `s.sum(level=1)` bằng cách nào khác?",
      "metadata": {}
    },
    {
      "cell_type": "code",
      "source": "print ( S.groupby( S.index.get_level_values( 1 ) ).sum() )",
      "metadata": {
        "trusted": true
      },
      "outputs": [
        {
          "name": "stdout",
          "output_type": "stream",
          "text": "Number\n0   -0.442981\n1   -0.122332\n2    1.093103\n3    2.516330\n4   -2.513728\n5    0.039957\n6   -0.284675\n7   -0.000823\n8   -2.616313\n9   -0.152124\ndtype: float64\n"
        }
      ],
      "execution_count": 96
    },
    {
      "cell_type": "markdown",
      "source": "**50**. Đổi các cấp độ của MultiIndex để chúng ta có một chỉ mục có dạng (chữ cái, số). Series mới này có được sắp xếp theo lexorp đúng không? Nếu không, hãy sắp xếp nó.",
      "metadata": {}
    },
    {
      "cell_type": "code",
      "source": "S_swaplevel = S.swaplevel( 0 ,1 )\nprint( S_swaplevel )",
      "metadata": {
        "trusted": true
      },
      "outputs": [
        {
          "name": "stdout",
          "output_type": "stream",
          "text": "Number  Letter\n0       A         0.600053\n1       A        -1.179745\n2       A         0.062238\n3       A         0.758804\n4       A        -0.576863\n5       A         1.789857\n6       A         0.604582\n7       A        -0.315812\n8       A         0.394202\n9       A        -1.080539\n0       B        -1.338543\n1       B        -0.303246\n2       B         1.059383\n3       B         0.930830\n4       B        -2.045441\n5       B        -0.892134\n6       B         0.145775\n7       B        -1.335761\n8       B        -1.587472\n9       B         0.851058\n0       C         0.295509\n1       C         1.360659\n2       C        -0.028519\n3       C         0.826696\n4       C         0.108576\n5       C        -0.857767\n6       C        -1.035032\n7       C         1.650751\n8       C        -1.423043\n9       C         0.077356\ndtype: float64\n"
        }
      ],
      "execution_count": 97
    },
    {
      "cell_type": "code",
      "source": "",
      "metadata": {
        "trusted": true
      },
      "outputs": [],
      "execution_count": null
    }
  ]
}