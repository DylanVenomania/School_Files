{
  "metadata": {
    "kernelspec": {
      "name": "python",
      "display_name": "Python (Pyodide)",
      "language": "python"
    },
    "language_info": {
      "codemirror_mode": {
        "name": "python",
        "version": 3
      },
      "file_extension": ".py",
      "mimetype": "text/x-python",
      "name": "python",
      "nbconvert_exporter": "python",
      "pygments_lexer": "ipython3",
      "version": "3.8"
    }
  },
  "nbformat_minor": 5,
  "nbformat": 4,
  "cells": [
    {
      "id": "10a232ea-bf1d-45fa-89d1-f617a7244186",
      "cell_type": "markdown",
      "source": "## 50 câu hỏi ngắn về Numpy",
      "metadata": {}
    },
    {
      "id": "ba2c2125-17b8-416c-9233-ad9d75c89c23",
      "cell_type": "markdown",
      "source": "### Câu hỏi 1: import numpy dưới bí danh np và xem phiên bản",
      "metadata": {}
    },
    {
      "id": "fa97ab1f-f44a-41c5-acaf-040dda2423d7",
      "cell_type": "code",
      "source": "import numpy as np\nprint( np.__version__)",
      "metadata": {
        "trusted": true
      },
      "outputs": [
        {
          "name": "stdout",
          "output_type": "stream",
          "text": "2.0.2\n"
        }
      ],
      "execution_count": 1
    },
    {
      "id": "4b8b0402-524f-4000-baa5-9e4363fceefa",
      "cell_type": "markdown",
      "source": "### Câu hỏi 2: Làm thế nào để tạo mảng 1 chiều?",
      "metadata": {}
    },
    {
      "id": "d98abb1e-ae94-4d85-8330-80914fe0ab11",
      "cell_type": "code",
      "source": "import numpy as np\narray1 = np.array( [0, 1, 2, 3, 4, 5] )\narray2 = np.arange( 0, 10, 1 )\nprint( array1 )\nprint( array2 )",
      "metadata": {
        "trusted": true
      },
      "outputs": [
        {
          "name": "stdout",
          "output_type": "stream",
          "text": "[0 1 2 3 4 5]\n[0 1 2 3 4 5 6 7 8 9]\n"
        }
      ],
      "execution_count": 5
    },
    {
      "id": "0e714350-5354-4dc2-8e4c-707b7917c706",
      "cell_type": "markdown",
      "source": "### Câu hỏi 3: Làm thế nào để tạo một mảng boolean?",
      "metadata": {}
    },
    {
      "id": "536f7557-e2ee-4176-9ffd-f072660ec318",
      "cell_type": "code",
      "source": "array1 = np.ones( 10, dtype = bool )\nprint( array1 )",
      "metadata": {
        "trusted": true,
        "scrolled": true
      },
      "outputs": [
        {
          "name": "stdout",
          "output_type": "stream",
          "text": "[ True  True  True  True  True  True  True  True  True  True]\n"
        }
      ],
      "execution_count": 14
    },
    {
      "id": "90907205-4682-4359-850e-898b2ef6a381",
      "cell_type": "code",
      "source": "array2 = np.ones( 10, dtype = bool ).reshape(2, 5)\nprint( array2 )",
      "metadata": {
        "trusted": true
      },
      "outputs": [
        {
          "name": "stdout",
          "output_type": "stream",
          "text": "[[ True  True  True  True  True]\n [ True  True  True  True  True]]\n"
        }
      ],
      "execution_count": 17
    },
    {
      "id": "417d8d50-0ff3-4817-b9c3-c59073457dc2",
      "cell_type": "code",
      "source": "array3 = np.array( [1, 2, 4, 6, 5, 11, 15, 4 ] )\narray3 = array3 % 2 == 0\nprint( array3 )",
      "metadata": {
        "trusted": true
      },
      "outputs": [
        {
          "name": "stdout",
          "output_type": "stream",
          "text": "[False  True  True  True False False False  True]\n"
        }
      ],
      "execution_count": 16
    },
    {
      "id": "5729213c-59e5-49b1-8b8a-87fa1163d68e",
      "cell_type": "code",
      "source": "array3 = np.array( [True, False, True, True, True, False ] )\nprint ( array3 )",
      "metadata": {
        "trusted": true
      },
      "outputs": [
        {
          "name": "stdout",
          "output_type": "stream",
          "text": "[ True False  True  True  True False]\n"
        }
      ],
      "execution_count": 18
    },
    {
      "id": "670b4f62-c6d9-45f4-b4a7-7e1d305adfd2",
      "cell_type": "markdown",
      "source": "### Câu hỏi 4: Làm thế nào để trích xuất các mục thỏa mãn một điều kiện nhất định từ mảng 1 chiều?\nVí dụ: Trích xuất tất cả các số lẻ từ mảng",
      "metadata": {}
    },
    {
      "id": "6d3b4c8d-d279-49dc-92b4-c731ff9cfc5e",
      "cell_type": "code",
      "source": "import numpy as np \narray1 = np.arange( 0, 10, 1 ) \nsole = array1[ array1 % 2 != 0 ]\nprint( sole )",
      "metadata": {
        "trusted": true
      },
      "outputs": [
        {
          "name": "stdout",
          "output_type": "stream",
          "text": "[1 3 5 7 9]\n"
        }
      ],
      "execution_count": 19
    },
    {
      "id": "4ba3b6fa-f38a-4cad-8ec8-94ae1975525d",
      "cell_type": "markdown",
      "source": "### Câu hỏi 5: Làm thế nào để thay thế các mục thỏa mãn một điều kiện bằng một giá trị khác trong mảng numpy?\nVí dụ: Thay thế tất cả các số lẻ trong arr bằng -1",
      "metadata": {}
    },
    {
      "id": "d138370c-a76c-454a-92bd-796a8768464d",
      "cell_type": "code",
      "source": "import numpy as np \narr = np.arange( 0, 10, 1 ) \narr[ arr % 2 != 0 ] = -1\nprint( arr )",
      "metadata": {
        "trusted": true
      },
      "outputs": [
        {
          "name": "stdout",
          "output_type": "stream",
          "text": "[ 0 -1  2 -1  4 -1  6 -1  8 -1]\n"
        }
      ],
      "execution_count": 14
    },
    {
      "id": "df0bed91-0e03-4335-b583-81f62649d4a5",
      "cell_type": "markdown",
      "source": "### Câu hỏi 6: Làm thế nào để thay thế các mục thỏa mãn một điều kiện mà không ảnh hưởng đến mảng ban đầu?\nVí dụ: Thay thế tất cả các số lẻ trong arr bằng -1 mà không thay đổi arr",
      "metadata": {}
    },
    {
      "id": "6df6eec0-4ce6-435c-a6da-22078b54a4ec",
      "cell_type": "code",
      "source": "import numpy as np\narr = np.arange(0, 10, 1 )\narr_copy = arr.copy()\narr_copy[ arr_copy % 2 != 0 ] = -1\nprint( arr, arr_copy)",
      "metadata": {
        "trusted": true
      },
      "outputs": [
        {
          "name": "stdout",
          "output_type": "stream",
          "text": "[0 1 2 3 4 5 6 7 8 9] [ 0 -1  2 -1  4 -1  6 -1  8 -1]\n"
        }
      ],
      "execution_count": 12
    },
    {
      "id": "b647c4ae-94b2-4715-ab5f-0531ab251744",
      "cell_type": "markdown",
      "source": "### Câu hỏi 7: Làm thế nào để định hình lại một mảng?",
      "metadata": {}
    },
    {
      "id": "94fb4f87-d237-4761-b53f-33f4c73faaee",
      "cell_type": "code",
      "source": "import numpy as np\narr = np.arange(0, 10, 1 )\narr = arr.reshape( 2, 5 )\nprint( arr)",
      "metadata": {
        "trusted": true
      },
      "outputs": [
        {
          "name": "stdout",
          "output_type": "stream",
          "text": "[[0 1 2 3 4]\n [5 6 7 8 9]]\n"
        }
      ],
      "execution_count": 11
    },
    {
      "id": "aad1f83e-aa57-48de-a561-6dff5d937a22",
      "cell_type": "markdown",
      "source": "### Câu hỏi 8: Làm thế nào để xếp chồng hai mảng theo chiều dọc?",
      "metadata": {}
    },
    {
      "id": "e067ea17-89fa-4c80-9b75-47afc3a37b56",
      "cell_type": "code",
      "source": "import numpy as np\narr1 = np.arange(0, 10, 1 )\narr2 = np.arange(10, 20, 1)\narr3 = np.vstack( (arr1, arr2) )\nprint ( arr3 )",
      "metadata": {
        "trusted": true
      },
      "outputs": [
        {
          "name": "stdout",
          "output_type": "stream",
          "text": "[[ 0  1  2  3  4  5  6  7  8  9]\n [10 11 12 13 14 15 16 17 18 19]]\n"
        }
      ],
      "execution_count": 23
    },
    {
      "id": "5fd2a1c2-7806-41fa-828c-06821f1de76d",
      "cell_type": "markdown",
      "source": "### Câu hỏi 9: Làm thế nào để xếp chồng hai mảng theo chiều ngang?",
      "metadata": {}
    },
    {
      "id": "913e6f4d-502b-48df-9911-09445526c414",
      "cell_type": "code",
      "source": "import numpy as np\narr1 = np.arange( 0, 10, 1 )\narr2 = np.arange( 10, 20, 1)\narr3 = np.hstack( (arr1, arr2) )\nprint( arr3 )",
      "metadata": {
        "trusted": true
      },
      "outputs": [
        {
          "name": "stdout",
          "output_type": "stream",
          "text": "[ 0  1  2  3  4  5  6  7  8  9 10 11 12 13 14 15 16 17 18 19]\n"
        }
      ],
      "execution_count": 22
    },
    {
      "id": "42773514-47ee-432d-b43c-27e45b52df5c",
      "cell_type": "markdown",
      "source": "### Câu hỏi 10: Làm thế nào để tạo các chuỗi tùy chỉnh trong numpy mà không cần mã hóa cứng?\nVí dụ: \nInput: a = np.array([1,2,3])\n\nOutput: array([1, 1, 1, 2, 2, 2, 3, 3, 3, 1, 2, 3, 1, 2, 3, 1, 2, 3])",
      "metadata": {}
    },
    {
      "id": "1b36f331-116a-4ecc-8faa-04fb7ea1453b",
      "cell_type": "code",
      "source": "import numpy as np\na = np.array( [1,2,3] )\noutput1 = np.repeat(a, 3)\n\noutput2 = np.tile( a, (3,1) )\noutput2 = output2.flatten()\n\noutput = np.hstack( (output1, output2 ) )\nprint( output )",
      "metadata": {
        "trusted": true
      },
      "outputs": [
        {
          "name": "stdout",
          "output_type": "stream",
          "text": "[1 1 1 2 2 2 3 3 3 1 2 3 1 2 3 1 2 3]\n"
        }
      ],
      "execution_count": 19
    },
    {
      "id": "b54fabab-c8d7-4c1a-8af1-dd8b60ec8db2",
      "cell_type": "markdown",
      "source": "### Câu hỏi 11. Làm thế nào để lấy các mục chung giữa hai mảng numpy python?\nVí dụ: \nInput: a = np.array([1,2,3,2,3,4,3,4,5,6])\n\n        b = np.array([7,2,10,2,7,4,9,4,9,8])\n\nOutput: array([2, 4])",
      "metadata": {}
    },
    {
      "id": "37e0fbce-5aa9-4433-8aee-dcc0826d5e8a",
      "cell_type": "code",
      "source": "import numpy as np\na = np.array( [ 1, 2, 3, 2, 3, 4, 3 ,4, 5, 6 ] )\nb = np.array( [7, 2, 10, 2, 7, 4, 9, 4, 9, 8 ] )\n\noutput = np.intersect1d( a, b )\nprint( output )",
      "metadata": {
        "trusted": true
      },
      "outputs": [
        {
          "name": "stdout",
          "output_type": "stream",
          "text": "[2 4]\n"
        }
      ],
      "execution_count": 24
    },
    {
      "id": "f7aee796-f481-4d56-a199-4508b24479d5",
      "cell_type": "code",
      "source": "",
      "metadata": {
        "trusted": true
      },
      "outputs": [],
      "execution_count": null
    },
    {
      "id": "c47faf97-6034-4427-aedb-44fdc6583fdd",
      "cell_type": "markdown",
      "source": "### Câu hỏi 12. Làm thế nào để xóa khỏi một mảng những mục tồn tại trong mảng khác? \nVí dụ: Input: a = np.array([1,2,3,4,5])\n\n              b = np.array([5,6,7,8,9])\n\nOutput: array([1,2,3,4])",
      "metadata": {}
    },
    {
      "id": "d7ce62d8-c3d0-4b8e-90a1-fb86c646d86a",
      "cell_type": "code",
      "source": "import numpy as np\na = np.array( [ 1, 2, 3, 4, 5 ] )\nb = np.array( [ 5, 6, 7, 8, 9 ] )\n\noutput = np.setdiff1d( a, b )\nprint ( output )",
      "metadata": {
        "trusted": true
      },
      "outputs": [
        {
          "name": "stdout",
          "output_type": "stream",
          "text": "[1 2 3 4]\n"
        }
      ],
      "execution_count": 26
    },
    {
      "id": "ef417ca6-7e7d-4ba4-8837-0c485fc073d1",
      "cell_type": "markdown",
      "source": "### Câu hỏi 13. Làm thế nào để lấy các vị trí mà các phần tử của hai mảng khớp nhau?\n\nVí dụ: \n\nInput: a = np.array([1,2,3,2,3,4,3,4,5,6])\n\n       b = np.array([7,2,10,2,7,4,9,4,9,8])\n\nOutput: (array([1, 3, 5, 7]),)",
      "metadata": {}
    },
    {
      "id": "70cffccb-0090-4cea-9ffb-d4de29fa8278",
      "cell_type": "code",
      "source": "import numpy as np\na = np.array( [1, 2, 3, 2, 3, 4, 3, 4, 5, 6 ] )\nb = np.array( [7, 2, 10, 2, 7, 4, 9, 4, 9 ,8] )\n\nvitrikhop = np.where( a == b )\nprint ( vitrikhop )",
      "metadata": {
        "trusted": true
      },
      "outputs": [
        {
          "name": "stdout",
          "output_type": "stream",
          "text": "(array([1, 3, 5, 7]),)\n"
        }
      ],
      "execution_count": 28
    },
    {
      "id": "7306243c-dbb1-43f2-bc8e-dbe7b3a4f681",
      "cell_type": "markdown",
      "source": "### Câu hỏi 14. Làm thế nào để trích xuất tất cả các số trong một phạm vi nhất định từ một mảng numpy?\n\nVí dụ: \nInput: a = np.array([2, 6, 1, 9, 10, 3, 27])\n\nOutput: (array([6, 9, 10]),)",
      "metadata": {}
    },
    {
      "id": "25ea56ca-536b-493c-8304-227a7503efc2",
      "cell_type": "code",
      "source": "import numpy as np\n\na = np.array( [2, 6, 1, 9, 10, 3, 27 ] )\noutput = a[ ( a >=6 ) & ( a <=10 ) ]\nprint( output )\n\n",
      "metadata": {
        "trusted": true
      },
      "outputs": [
        {
          "name": "stdout",
          "output_type": "stream",
          "text": "[ 6  9 10]\n"
        }
      ],
      "execution_count": 30
    },
    {
      "id": "b893dc4b-ba59-41b4-9f87-bcc3934fb382",
      "cell_type": "markdown",
      "source": "### Câu hỏi 16. Làm thế nào để hoán đổi hai cột trong một mảng numpy 2 chiều? ",
      "metadata": {}
    },
    {
      "id": "fbead736-b47b-444a-b88a-7e5b6aa15720",
      "cell_type": "code",
      "source": "import numpy as np\na = np.array([ [1,2,3], [4,5,6], [7,8,9] ])\na[:, [0,2] ] = a[:, [2,0] ]\nprint(a )",
      "metadata": {
        "trusted": true
      },
      "outputs": [
        {
          "name": "stdout",
          "output_type": "stream",
          "text": "[[3 2 1]\n [6 5 4]\n [9 8 7]]\n"
        }
      ],
      "execution_count": 27
    },
    {
      "id": "d54707f1-c68e-44b4-89cf-1dc8ffd8998f",
      "cell_type": "markdown",
      "source": "### Câu hỏi 17. Làm thế nào để hoán đổi hai hàng trong một mảng numpy 2 chiều? ",
      "metadata": {}
    },
    {
      "id": "8bb378a3-262f-4fad-a51b-76ef632ee0c2",
      "cell_type": "code",
      "source": "import numpy as np\na = np.array ( [ [1,2,3], [4,5,6], [7,8,9] ] )\na[ [0, 2 ] ] = a[ [2, 0 ] ]\nprint( a )",
      "metadata": {
        "trusted": true
      },
      "outputs": [
        {
          "name": "stdout",
          "output_type": "stream",
          "text": "[[7 8 9]\n [4 5 6]\n [1 2 3]]\n"
        }
      ],
      "execution_count": 31
    },
    {
      "id": "25edc3ac-4c20-4df2-ac99-8577cd7b7b42",
      "cell_type": "markdown",
      "source": "### Câu hỏi 18. Làm thế nào để đảo ngược các hàng của một mảng 2 chiều? ",
      "metadata": {}
    },
    {
      "id": "3ab32507-507b-45d7-bd6f-c192197cec1d",
      "cell_type": "code",
      "source": "import numpy as np\na = np.array( [ [1,2,3], [4,5,6] , [7,8,9] ] )\na = a[::-1]\nprint ( a )\n",
      "metadata": {
        "trusted": true
      },
      "outputs": [
        {
          "name": "stdout",
          "output_type": "stream",
          "text": "[[7 8 9]\n [4 5 6]\n [1 2 3]]\n"
        }
      ],
      "execution_count": 34
    },
    {
      "id": "7c17facc-e4b9-4b53-8c24-39e4c2f970a3",
      "cell_type": "markdown",
      "source": "### Câu hỏi 19. Làm thế nào để đảo ngược các cột của một mảng 2 chiều?",
      "metadata": {}
    },
    {
      "id": "84d754cc-88d2-47c8-8e28-453529494432",
      "cell_type": "code",
      "source": "import numpy as np\na = np.array( [ [1,2,3], [4,5,6] , [7,8,9] ] )\na = a[:, ::-1 ]\nprint(a)",
      "metadata": {
        "trusted": true
      },
      "outputs": [
        {
          "name": "stdout",
          "output_type": "stream",
          "text": "[[3 2 1]\n [6 5 4]\n [9 8 7]]\n"
        }
      ],
      "execution_count": 37
    },
    {
      "id": "f58eff0c-27fa-42f8-b4e0-bc3abef4b0eb",
      "cell_type": "markdown",
      "source": "### Câu hỏi 20. Làm thế nào để tạo một mảng 2 chiều chứa các số thực ngẫu nhiên giữa 5 và 10?",
      "metadata": {}
    },
    {
      "id": "6da67084-4816-4aa5-9395-3613e1d8f97b",
      "cell_type": "code",
      "source": "import numpy as np\na = np.random.uniform( 5, 10, size = (3, 4 ) )\nprint( a )",
      "metadata": {
        "trusted": true
      },
      "outputs": [
        {
          "name": "stdout",
          "output_type": "stream",
          "text": "[[5.17468158 9.93561492 7.60958945 9.72558555]\n [6.53786148 5.45020016 9.68350071 6.1984197 ]\n [5.62797697 6.14906792 7.55923906 8.83492663]]\n"
        }
      ],
      "execution_count": 40
    },
    {
      "id": "36d00fbe-de8e-4d6f-8836-ffd6393c4cbd",
      "cell_type": "markdown",
      "source": "### Câu hỏi 21. Làm thế nào để chỉ in 3 chữ số thập phân trong mảng numpy python? ",
      "metadata": {}
    },
    {
      "id": "9091f512-888a-4df8-b349-f7a4add6dd34",
      "cell_type": "code",
      "source": "import numpy as np\nimport math as m\na = np.random.uniform( 0, 5 , size = 10) \nprint( np.round ( a, 3 ) )",
      "metadata": {
        "trusted": true
      },
      "outputs": [
        {
          "name": "stdout",
          "output_type": "stream",
          "text": "[3.382 2.393 1.912 3.507 2.745 1.476 1.955 3.363 4.815 4.087]\n"
        }
      ],
      "execution_count": 44
    },
    {
      "id": "af507e3a-dea0-4924-ba7a-875a6349f0fa",
      "cell_type": "markdown",
      "source": "### Câu hỏi 22. Làm thế nào để in đẹp một mảng numpy bằng cách loại bỏ ký hiệu khoa học (như 1e10)? ",
      "metadata": {}
    },
    {
      "id": "cbb598af-ff37-489b-a918-d50eb9f857c5",
      "cell_type": "code",
      "source": "import numpy as np\na = np.array( [ 1e10, 1.23e5, 3.45e8, 2.34e2] )\nprint( a )\nnp.set_printoptions(suppress = True, formatter = {'float_kind':'{:f}'.format})\nprint( a )",
      "metadata": {
        "trusted": true
      },
      "outputs": [
        {
          "name": "stdout",
          "output_type": "stream",
          "text": "[1.00000000e+10 1.23000000e+05 3.45000000e+08 2.34000000e+02]\n[10000000000.000000 123000.000000 345000000.000000 234.000000]\n"
        }
      ],
      "execution_count": 56
    },
    {
      "id": "b725f530-f49c-4ab4-bba0-84c472c1db5f",
      "cell_type": "markdown",
      "source": "### Câu hỏi 24. Làm thế nào để in toàn bộ mảng numpy mà không cần cắt bớt",
      "metadata": {}
    },
    {
      "id": "7fbac810-aacf-45cc-984e-985452ce30a1",
      "cell_type": "code",
      "source": "import numpy as np\na = np.arange( 1000 )\nnp.set_printoptions( threshold = np.inf )\nprint ( a) ",
      "metadata": {
        "trusted": true
      },
      "outputs": [
        {
          "name": "stdout",
          "output_type": "stream",
          "text": "[  0   1   2   3   4   5   6   7   8   9  10  11  12  13  14  15  16  17\n  18  19  20  21  22  23  24  25  26  27  28  29  30  31  32  33  34  35\n  36  37  38  39  40  41  42  43  44  45  46  47  48  49  50  51  52  53\n  54  55  56  57  58  59  60  61  62  63  64  65  66  67  68  69  70  71\n  72  73  74  75  76  77  78  79  80  81  82  83  84  85  86  87  88  89\n  90  91  92  93  94  95  96  97  98  99 100 101 102 103 104 105 106 107\n 108 109 110 111 112 113 114 115 116 117 118 119 120 121 122 123 124 125\n 126 127 128 129 130 131 132 133 134 135 136 137 138 139 140 141 142 143\n 144 145 146 147 148 149 150 151 152 153 154 155 156 157 158 159 160 161\n 162 163 164 165 166 167 168 169 170 171 172 173 174 175 176 177 178 179\n 180 181 182 183 184 185 186 187 188 189 190 191 192 193 194 195 196 197\n 198 199 200 201 202 203 204 205 206 207 208 209 210 211 212 213 214 215\n 216 217 218 219 220 221 222 223 224 225 226 227 228 229 230 231 232 233\n 234 235 236 237 238 239 240 241 242 243 244 245 246 247 248 249 250 251\n 252 253 254 255 256 257 258 259 260 261 262 263 264 265 266 267 268 269\n 270 271 272 273 274 275 276 277 278 279 280 281 282 283 284 285 286 287\n 288 289 290 291 292 293 294 295 296 297 298 299 300 301 302 303 304 305\n 306 307 308 309 310 311 312 313 314 315 316 317 318 319 320 321 322 323\n 324 325 326 327 328 329 330 331 332 333 334 335 336 337 338 339 340 341\n 342 343 344 345 346 347 348 349 350 351 352 353 354 355 356 357 358 359\n 360 361 362 363 364 365 366 367 368 369 370 371 372 373 374 375 376 377\n 378 379 380 381 382 383 384 385 386 387 388 389 390 391 392 393 394 395\n 396 397 398 399 400 401 402 403 404 405 406 407 408 409 410 411 412 413\n 414 415 416 417 418 419 420 421 422 423 424 425 426 427 428 429 430 431\n 432 433 434 435 436 437 438 439 440 441 442 443 444 445 446 447 448 449\n 450 451 452 453 454 455 456 457 458 459 460 461 462 463 464 465 466 467\n 468 469 470 471 472 473 474 475 476 477 478 479 480 481 482 483 484 485\n 486 487 488 489 490 491 492 493 494 495 496 497 498 499 500 501 502 503\n 504 505 506 507 508 509 510 511 512 513 514 515 516 517 518 519 520 521\n 522 523 524 525 526 527 528 529 530 531 532 533 534 535 536 537 538 539\n 540 541 542 543 544 545 546 547 548 549 550 551 552 553 554 555 556 557\n 558 559 560 561 562 563 564 565 566 567 568 569 570 571 572 573 574 575\n 576 577 578 579 580 581 582 583 584 585 586 587 588 589 590 591 592 593\n 594 595 596 597 598 599 600 601 602 603 604 605 606 607 608 609 610 611\n 612 613 614 615 616 617 618 619 620 621 622 623 624 625 626 627 628 629\n 630 631 632 633 634 635 636 637 638 639 640 641 642 643 644 645 646 647\n 648 649 650 651 652 653 654 655 656 657 658 659 660 661 662 663 664 665\n 666 667 668 669 670 671 672 673 674 675 676 677 678 679 680 681 682 683\n 684 685 686 687 688 689 690 691 692 693 694 695 696 697 698 699 700 701\n 702 703 704 705 706 707 708 709 710 711 712 713 714 715 716 717 718 719\n 720 721 722 723 724 725 726 727 728 729 730 731 732 733 734 735 736 737\n 738 739 740 741 742 743 744 745 746 747 748 749 750 751 752 753 754 755\n 756 757 758 759 760 761 762 763 764 765 766 767 768 769 770 771 772 773\n 774 775 776 777 778 779 780 781 782 783 784 785 786 787 788 789 790 791\n 792 793 794 795 796 797 798 799 800 801 802 803 804 805 806 807 808 809\n 810 811 812 813 814 815 816 817 818 819 820 821 822 823 824 825 826 827\n 828 829 830 831 832 833 834 835 836 837 838 839 840 841 842 843 844 845\n 846 847 848 849 850 851 852 853 854 855 856 857 858 859 860 861 862 863\n 864 865 866 867 868 869 870 871 872 873 874 875 876 877 878 879 880 881\n 882 883 884 885 886 887 888 889 890 891 892 893 894 895 896 897 898 899\n 900 901 902 903 904 905 906 907 908 909 910 911 912 913 914 915 916 917\n 918 919 920 921 922 923 924 925 926 927 928 929 930 931 932 933 934 935\n 936 937 938 939 940 941 942 943 944 945 946 947 948 949 950 951 952 953\n 954 955 956 957 958 959 960 961 962 963 964 965 966 967 968 969 970 971\n 972 973 974 975 976 977 978 979 980 981 982 983 984 985 986 987 988 989\n 990 991 992 993 994 995 996 997 998 999]\n"
        }
      ],
      "execution_count": 69
    },
    {
      "id": "250594ef-54ee-442f-a1dd-f677391488f4",
      "cell_type": "markdown",
      "source": "### Câu hỏi 28. Làm thế nào để tính giá trị trung bình, trung vị, độ lệch chuẩn của một mảng numpy?",
      "metadata": {}
    },
    {
      "id": "b22d13c6-9897-4993-891c-a7cffa1a72cf",
      "cell_type": "code",
      "source": "import numpy as np\na = np.array( [1, 2, 3, 2, 3, 4, 3, 4, 5, 6 ] )\ntrungbinh = np.mean( a )\ntrungvi = np.median( a )\ndolechchuan = np.std( a )\n\nprint ( trungbinh , '   ' , trungvi, '   ', dolechchuan )",
      "metadata": {
        "trusted": true
      },
      "outputs": [
        {
          "name": "stdout",
          "output_type": "stream",
          "text": "3.3     3.0     1.4177446878757827\n"
        }
      ],
      "execution_count": 71
    },
    {
      "id": "596dc0c1-921f-427a-ab3f-8fe074055b97",
      "cell_type": "markdown",
      "source": "### Câu hỏi 29. Làm thế nào để chuẩn hóa một mảng sao cho các giá trị nằm chính xác trong khoảng từ 0 đến 1?",
      "metadata": {}
    },
    {
      "id": "ba9f6c0d-b516-40ee-8753-6e24cf2e1622",
      "cell_type": "code",
      "source": "import numpy as np\narr = np.array( [ 10, 20, 30, 40, 50] )\n\narr_min = arr.min()\narr_max = arr.max()\n\nchuanhoa = ( arr - arr_min )/( arr_max - arr_min)\nprint(a )",
      "metadata": {
        "trusted": true
      },
      "outputs": [
        {
          "name": "stdout",
          "output_type": "stream",
          "text": "[80 59 22 12 23 20  4 58  6 23]\n"
        }
      ],
      "execution_count": 84
    },
    {
      "id": "49b934f2-45a0-40b4-b31b-d21a4d03b12b",
      "cell_type": "markdown",
      "source": "### Câu hỏi 30. Làm thế nào để tính điểm softmax?",
      "metadata": {}
    },
    {
      "id": "aa22c936-122d-40e4-9906-cd913ed252f4",
      "cell_type": "code",
      "source": "import numpy as np\narr = np.random.uniform( 1, 10, 5 )\n\ndef softmax(x):\n    e_mu_x = np.exp( x- np.max( x ) )\n\n    soft_max = e_mu_x / np.sum( e_mu_x )\n    return soft_max\n\nketqua = softmax( arr )\nprint( ketqua )",
      "metadata": {
        "trusted": true
      },
      "outputs": [
        {
          "name": "stdout",
          "output_type": "stream",
          "text": "[0.00266727 0.07008594 0.00168232 0.54522067 0.38034379]\n"
        }
      ],
      "execution_count": 85
    },
    {
      "id": "f0a73488-1cc4-429f-bd78-3746e01eb8cb",
      "cell_type": "markdown",
      "source": "### Câu hỏi 32. Làm thế nào để chèn các giá trị ở các vị trí ngẫu nhiên trong một mảng?\n\nVí dụ: Chèn giá trị 0 vào 20 vị trí ngẫu nhiên trong tập dữ liệu a",
      "metadata": {}
    },
    {
      "id": "aaced55b-5524-48fc-b34e-53def3efad28",
      "cell_type": "code",
      "source": "import numpy as np\narr = np.random.randint( 1, 100, (30))\n\nsoluongchen = 20\n\nchi_so_chen = np.random.choice( arr.size, soluongchen, replace = False )\n\narr_new = np.insert( arr, chi_so_chen, 0 )\n\nprint ( arr_new )",
      "metadata": {
        "trusted": true
      },
      "outputs": [
        {
          "name": "stdout",
          "output_type": "stream",
          "text": "[ 0 13  0 28 92  9  0  3 38  0 86  0 24  0 81  0  3  0 96  8  0  2  0 32\n  0  9  0 74 52  0 78  0 58 30  0 49  0 69 97 18  0 84 52  0 22 77  0 22\n  0 13]\n"
        }
      ],
      "execution_count": 96
    },
    {
      "id": "736e5117-61cd-48c1-9ae8-278926e586a7",
      "cell_type": "markdown",
      "source": "### Câu hỏi 34. Làm thế nào để lọc một mảng numpy dựa trên hai hoặc nhiều điều kiện?\n\nVí dụ: Lọc các hàng của a có các giá trị của (cột thứ 3) > 1,5 và các giá trị (cột thứ 1) < 5,0",
      "metadata": {}
    },
    {
      "id": "eee1ae75-f872-4e53-9fbe-48f9a2a7f3bb",
      "cell_type": "code",
      "source": "import numpy as np\narr = np.random.uniform( 0.0, 20.0 , (5, 3))\n\narr_new = ( arr[ :, 2 ] > 1.5 ) & ( arr[:, 0 ] < 5.0 ) \n\narr_filtered = arr[ arr_new ]\nprint( arr_filtered) ",
      "metadata": {
        "trusted": true
      },
      "outputs": [
        {
          "name": "stdout",
          "output_type": "stream",
          "text": "[[ 3.00416891 11.72243150  9.35249907]\n [ 0.53302083  5.56993270 13.94109225]]\n"
        }
      ],
      "execution_count": 112
    },
    {
      "id": "9626f29b-cf5f-4809-a11c-076b7d01d208",
      "cell_type": "markdown",
      "source": "### Câu hỏi 36. Làm thế nào để tìm mối tương quan giữa hai cột của mảng numpy?",
      "metadata": {}
    },
    {
      "id": "e685409d-a6ed-431a-8ee4-15ae5924c9f1",
      "cell_type": "code",
      "source": "import numpy as np\narr = np.random.randint( 0, 20 , (5, 3))\n\ncol1 = arr[: , 0 ]\ncol2 = arr[: , 1 ]\n\nmoituongquan = np.corrcoef( col1, col2 )\nprint(moituongquan)",
      "metadata": {
        "trusted": true
      },
      "outputs": [
        {
          "name": "stdout",
          "output_type": "stream",
          "text": "[[1.00000000 0.40487438]\n [0.40487438 1.00000000]]\n"
        }
      ],
      "execution_count": 119
    },
    {
      "id": "42ac071e-15c2-44e8-993c-ee2a66edf97a",
      "cell_type": "markdown",
      "source": "### Câu hỏi 44. Làm thế nào để sắp xếp một mảng 2D theo một cột",
      "metadata": {}
    },
    {
      "id": "4ba105e4-647b-4ae7-8671-638aa6468c44",
      "cell_type": "code",
      "source": "import numpy as np\narr = np.random.randint( 0, 20, ( 5, 3) )\n#sắp xếp theo cột thứ 2\nsorted_arr = arr[ arr[ :, 1 ].argsort() ]\n\nprint(arr )\nprint()\nprint( sorted_arr )",
      "metadata": {
        "trusted": true
      },
      "outputs": [
        {
          "name": "stdout",
          "output_type": "stream",
          "text": "[[14 18 17]\n [ 7 12  1]\n [ 1 16 19]\n [ 9 16  8]\n [15 14 13]]\n\n[[ 7 12  1]\n [15 14 13]\n [ 1 16 19]\n [ 9 16  8]\n [14 18 17]]\n"
        }
      ],
      "execution_count": 125
    },
    {
      "id": "dcad8b50-44ec-45a6-a5e1-fae8a41a7383",
      "cell_type": "markdown",
      "source": "### Câu hỏi 45. Làm thế nào để tìm giá trị thường xuyên nhất trong một mảng numpy?",
      "metadata": {}
    },
    {
      "id": "1fe6bc89-5a24-438e-9f03-d86068264574",
      "cell_type": "code",
      "source": "import numpy as np\narr = np.array( [1, 2, 2, 3, 4, 2, 5, 3, 4, 4, 4] )\n#giá trị duy nhất và số lần xuất hiện \nduynhat, solan = np.unique( arr, return_counts = True )\n\nsolan_xuathien_max = np.argmax(solan)\n\ngiatrithuongxuyen_max = duynhat[solan_xuathien_max ] \n\nprint( duynhat)\n\nprint( giatrithuongxuyen_max )\n",
      "metadata": {
        "trusted": true
      },
      "outputs": [
        {
          "name": "stdout",
          "output_type": "stream",
          "text": "[1 2 3 4 5]\n4\n"
        }
      ],
      "execution_count": 129
    },
    {
      "id": "8ee0cae4-980e-42de-a93f-26292bea412a",
      "cell_type": "markdown",
      "source": "### Câu hỏi 47. Làm thế nào để thay thế tất cả các giá trị lớn hơn một giá trị nhất định thành một ngưỡng nhất định?\n\nVí dụ: Từ mảng a, thay thế tất cả các giá trị lớn hơn 30 đến 30 và nhỏ hơn 10 đến 10.",
      "metadata": {}
    },
    {
      "id": "1e9fd9da-6f5e-4231-974d-704a76d043b3",
      "cell_type": "code",
      "source": "import numpy as np\narr = np.array( [5, 12, 45, 7, 25, 32, 9] )\n\n#giá trị nhỏ hơn 10 sẽ thành 10, giá trị lớn hơn 30 sẽ thành 30 \narr_clipped = np.clip( a, 10, 30 )\n\nprint(arr )\nprint( arr_clipped )",
      "metadata": {
        "trusted": true
      },
      "outputs": [
        {
          "name": "stdout",
          "output_type": "stream",
          "text": "[ 5 12 45  7 25 32  9]\n[30 30 22 12 23 20 10 30 10 23]\n"
        }
      ],
      "execution_count": 130
    },
    {
      "id": "a1368ddb-268a-4706-ae39-b1a293703752",
      "cell_type": "markdown",
      "source": "### Câu hỏi 48. Làm thế nào để lấy vị trí của n giá trị hàng đầu từ một mảng numpy?\n\nVí dụ: Lấy vị trí của 5 giá trị lớn nhất trong một mảng cho trước a.",
      "metadata": {}
    },
    {
      "id": "caba299c-0f72-4cf8-b8d6-0f40cefcecbc",
      "cell_type": "code",
      "source": "import numpy as np\narr = np.random.randint( 0, 100, 10 )\n\nn = 5\nn_giatrimax = np.argpartition(arr, -n)[-n:]\n\nprint( arr )\nprint( 'vi tri 5 gia tri lon nhat : ' , n_giatrimax )\n",
      "metadata": {
        "trusted": true
      },
      "outputs": [
        {
          "name": "stdout",
          "output_type": "stream",
          "text": "[ 2 89 21 76  9 42 21 93 93 27]\nvi tri 5 gia tri lon nhat :  [5 3 1 8 7]\n"
        }
      ],
      "execution_count": 133
    },
    {
      "id": "76cd6a89-fd68-4002-9037-3ef72673f260",
      "cell_type": "markdown",
      "source": "### Câu hỏi 50. Làm thế nào để chuyển đổi một mảng các mảng thành một mảng phẳng 1 chiều?",
      "metadata": {}
    },
    {
      "id": "d99a1f88-57fe-4d54-bf95-7ad7e91490af",
      "cell_type": "code",
      "source": "import numpy as np\narr = np.random.randint( 0, 100, (5,4) )\nprint( arr )",
      "metadata": {},
      "outputs": [],
      "execution_count": null
    },
    {
      "id": "59fc39ef-b0f0-446f-9c89-6a82afbaed89",
      "cell_type": "code",
      "source": "",
      "metadata": {},
      "outputs": [],
      "execution_count": null
    }
  ]
}