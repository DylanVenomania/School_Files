{
 "cells": [
  {
   "cell_type": "markdown",
   "metadata": {},
   "source": [
    "## Importing pandas\n",
    "\n",
    "### Bắt đầu và kiểm tra thiết lập pandas của bạn\n",
    "\n",
    "Mức độ: *easy* \n",
    "\n",
    "**1.** Import pandas dưới bí danh `pd`."
   ]
  },
  {
   "cell_type": "code",
   "execution_count": null,
   "metadata": {
    "collapsed": true,
    "jupyter": {
     "outputs_hidden": true
    }
   },
   "outputs": [],
   "source": []
  },
  {
   "cell_type": "markdown",
   "metadata": {},
   "source": [
    "Ba câu tiếp theo khó hơn một chút.\n",
    "\n",
    "\n",
    "**26.** Trong ô bên dưới, bạn có một DataFrame `df` bao gồm 10 cột số dấu phẩy động. Chính xác 5 mục trong mỗi hàng là giá trị NaN.\n",
    "\n",
    "Đối với mỗi hàng của DataFrame, hãy tìm *cột* chứa giá trị NaN *thứ ba*.\n",
    "\n",
    "Bạn nên trả về một Chuỗi nhãn cột: `e, c, d, h, d`"
   ]
  },
  {
   "cell_type": "code",
   "execution_count": 2,
   "metadata": {},
   "outputs": [
    {
     "ename": "NameError",
     "evalue": "name 'pd' is not defined",
     "output_type": "error",
     "traceback": [
      "\u001b[1;31m---------------------------------------------------------------------------\u001b[0m",
      "\u001b[1;31mNameError\u001b[0m                                 Traceback (most recent call last)",
      "Cell \u001b[1;32mIn[2], line 12\u001b[0m\n\u001b[0;32m      4\u001b[0m data \u001b[38;5;241m=\u001b[39m [[\u001b[38;5;241m0.04\u001b[39m,  nan,  nan, \u001b[38;5;241m0.25\u001b[39m,  nan, \u001b[38;5;241m0.43\u001b[39m, \u001b[38;5;241m0.71\u001b[39m, \u001b[38;5;241m0.51\u001b[39m,  nan,  nan],\n\u001b[0;32m      5\u001b[0m         [ nan,  nan,  nan, \u001b[38;5;241m0.04\u001b[39m, \u001b[38;5;241m0.76\u001b[39m,  nan,  nan, \u001b[38;5;241m0.67\u001b[39m, \u001b[38;5;241m0.76\u001b[39m, \u001b[38;5;241m0.16\u001b[39m],\n\u001b[0;32m      6\u001b[0m         [ nan,  nan, \u001b[38;5;241m0.5\u001b[39m ,  nan, \u001b[38;5;241m0.31\u001b[39m, \u001b[38;5;241m0.4\u001b[39m ,  nan,  nan, \u001b[38;5;241m0.24\u001b[39m, \u001b[38;5;241m0.01\u001b[39m],\n\u001b[0;32m      7\u001b[0m         [\u001b[38;5;241m0.49\u001b[39m,  nan,  nan, \u001b[38;5;241m0.62\u001b[39m, \u001b[38;5;241m0.73\u001b[39m, \u001b[38;5;241m0.26\u001b[39m, \u001b[38;5;241m0.85\u001b[39m,  nan,  nan,  nan],\n\u001b[0;32m      8\u001b[0m         [ nan,  nan, \u001b[38;5;241m0.41\u001b[39m,  nan, \u001b[38;5;241m0.05\u001b[39m,  nan, \u001b[38;5;241m0.61\u001b[39m,  nan, \u001b[38;5;241m0.48\u001b[39m, \u001b[38;5;241m0.68\u001b[39m]]\n\u001b[0;32m     10\u001b[0m columns \u001b[38;5;241m=\u001b[39m \u001b[38;5;28mlist\u001b[39m(\u001b[38;5;124m'\u001b[39m\u001b[38;5;124mabcdefghij\u001b[39m\u001b[38;5;124m'\u001b[39m)\n\u001b[1;32m---> 12\u001b[0m df \u001b[38;5;241m=\u001b[39m \u001b[43mpd\u001b[49m\u001b[38;5;241m.\u001b[39mDataFrame(data, columns\u001b[38;5;241m=\u001b[39mcolumns)\n\u001b[0;32m     14\u001b[0m \u001b[38;5;66;03m# viết một giải pháp cho câu hỏi ở đây\u001b[39;00m\n",
      "\u001b[1;31mNameError\u001b[0m: name 'pd' is not defined"
     ]
    }
   ],
   "source": [
    "import numpy as np\n",
    "nan = np.nan\n",
    "\n",
    "data = [[0.04,  nan,  nan, 0.25,  nan, 0.43, 0.71, 0.51,  nan,  nan],\n",
    "        [ nan,  nan,  nan, 0.04, 0.76,  nan,  nan, 0.67, 0.76, 0.16],\n",
    "        [ nan,  nan, 0.5 ,  nan, 0.31, 0.4 ,  nan,  nan, 0.24, 0.01],\n",
    "        [0.49,  nan,  nan, 0.62, 0.73, 0.26, 0.85,  nan,  nan,  nan],\n",
    "        [ nan,  nan, 0.41,  nan, 0.05,  nan, 0.61,  nan, 0.48, 0.68]]\n",
    "\n",
    "columns = list('abcdefghij')\n",
    "\n",
    "df = pd.DataFrame(data, columns=columns)\n",
    "\n",
    "# viết một giải pháp cho câu hỏi ở đây"
   ]
  },
  {
   "cell_type": "markdown",
   "metadata": {},
   "source": [
    "**27.** A DataFrame has a column of groups 'grps' and and column of integer values 'vals': \n",
    "\n",
    "```python\n",
    "df = pd.DataFrame({'grps': list('aaabbcaabcccbbc'), \n",
    "                   'vals': [12,345,3,1,45,14,4,52,54,23,235,21,57,3,87]})\n",
    "```\n",
    "For each *group*, find the sum of the three greatest values. You should end up with the answer as follows:\n",
    "```\n",
    "grps\n",
    "a    409\n",
    "b    156\n",
    "c    345\n",
    "```"
   ]
  },
  {
   "cell_type": "code",
   "execution_count": null,
   "metadata": {
    "collapsed": true,
    "jupyter": {
     "outputs_hidden": true
    }
   },
   "outputs": [],
   "source": [
    "df = pd.DataFrame({'grps': list('aaabbcaabcccbbc'), \n",
    "                   'vals': [12,345,3,1,45,14,4,52,54,23,235,21,57,3,87]})\n",
    "\n",
    "# write a solution to the question here"
   ]
  },
  {
   "cell_type": "markdown",
   "metadata": {},
   "source": [
    "**28.** DataFrame `df` được xây dựng bên dưới có hai cột số nguyên 'A' và 'B'. Các giá trị trong 'A' nằm trong khoảng từ 1 đến 100 (bao gồm). \n",
    "\n",
    "Đối với mỗi nhóm 10 số nguyên liên tiếp trong 'A' (tức là `(0, 10]`, `(10, 20]`, ...), hãy tính tổng các giá trị tương ứng trong cột 'B'.\n",
    "\n",
    "Câu trả lời sẽ là một Series như sau:\n",
    "\n",
    "```\n",
    "A\n",
    "(0, 10]      635\n",
    "(10, 20]     360\n",
    "(20, 30]     315\n",
    "(30, 40]     306\n",
    "(40, 50]     750\n",
    "(50, 60]     284\n",
    "(60, 70]     424\n",
    "(70, 80]     526\n",
    "(80, 90]     835\n",
    "(90, 100]    852\n",
    "```"
   ]
  },
  {
   "cell_type": "code",
   "execution_count": 4,
   "metadata": {},
   "outputs": [],
   "source": [
    "import pandas as pd\n",
    "df = pd.DataFrame(np.random.RandomState(8765).randint(1, 101, size=(100, 2)), columns = [\"A\", \"B\"])\n",
    "\n",
    "# viết một giải pháp cho câu hỏi ở đây"
   ]
  },
  {
   "cell_type": "markdown",
   "metadata": {},
   "source": [
    "## DataFrames: những vấn đề khó hơn \n",
    "\n",
    "### Những điều này có thể đòi hỏi một chút suy nghĩ vượt ra ngoài khuôn khổ...\n",
    "\n",
    "...nhưng tất cả đều có thể giải quyết được chỉ bằng các phương pháp pandas/NumPy thông thường (và do đó tránh sử dụng vòng lặp `for` rõ ràng)..\n",
    "\n",
    "Mức độ: *hard*"
   ]
  },
  {
   "cell_type": "markdown",
   "metadata": {},
   "source": [
    "**29.** Hãy xem xét DataFrame `df` trong đó có một cột số nguyên 'X':\n",
    "```python\n",
    "df = pd.DataFrame({'X': [7, 2, 0, 3, 4, 2, 5, 0, 3, 4]})\n",
    "```\n",
    "Đối với mỗi giá trị, hãy đếm ngược lại sự khác biệt đến số không trước đó (hoặc thời điểm bắt đầu của Series, tùy theo giá trị nào gần hơn). Do đó, các giá trị này phải là\n",
    "\n",
    "```\n",
    "[1, 2, 0, 1, 2, 3, 4, 0, 1, 2]\n",
    "```\n",
    "\n",
    "Tạo cột mới này thành cột 'Y'."
   ]
  },
  {
   "cell_type": "code",
   "execution_count": null,
   "metadata": {
    "collapsed": true,
    "jupyter": {
     "outputs_hidden": true
    }
   },
   "outputs": [],
   "source": []
  },
  {
   "cell_type": "markdown",
   "metadata": {},
   "source": [
    "**30.** Hãy xem xét DataFrame được xây dựng bên dưới chứa các hàng và cột dữ liệu số. \n",
    "\n",
    "Tạo danh sách các vị trí chỉ mục hàng-cột của 3 giá trị lớn nhất trong DataFrame này. Trong trường hợp này, câu trả lời sẽ là:\n",
    "```\n",
    "[(5, 7), (6, 4), (2, 5)]\n",
    "```"
   ]
  },
  {
   "cell_type": "code",
   "execution_count": null,
   "metadata": {
    "collapsed": true,
    "jupyter": {
     "outputs_hidden": true
    }
   },
   "outputs": [],
   "source": [
    "df = pd.DataFrame(np.random.RandomState(30).randint(1, 101, size=(8, 8)))"
   ]
  },
  {
   "cell_type": "markdown",
   "metadata": {},
   "source": [
    "**31.** Bạn được cung cấp DataFrame bên dưới với một cột ID nhóm, 'grps', và một cột chứa các giá trị số nguyên tương ứng, 'vals'.\n",
    "\n",
    "```python\n",
    "df = pd.DataFrame({\"vals\": np.random.RandomState(31).randint(-30, 30, size=15), \n",
    "                   \"grps\": np.random.RandomState(31).choice([\"A\", \"B\"], 15)})\n",
    "```\n",
    "\n",
    "Tạo một cột mới 'patched_values' chứa các giá trị giống như 'vals' bất kỳ giá trị âm nào trong 'vals' với nhóm mean:\n",
    "\n",
    "```\n",
    "    vals grps  patched_vals\n",
    "0    -12    A          13.6\n",
    "1     -7    B          28.0\n",
    "2    -14    A          13.6\n",
    "3      4    A           4.0\n",
    "4     -7    A          13.6\n",
    "5     28    B          28.0\n",
    "6     -2    A          13.6\n",
    "7     -1    A          13.6\n",
    "8      8    A           8.0\n",
    "9     -2    B          28.0\n",
    "10    28    A          28.0\n",
    "11    12    A          12.0\n",
    "12    16    A          16.0\n",
    "13   -24    A          13.6\n",
    "14   -12    A          13.6\n",
    "```"
   ]
  },
  {
   "cell_type": "code",
   "execution_count": null,
   "metadata": {
    "collapsed": true,
    "jupyter": {
     "outputs_hidden": true
    }
   },
   "outputs": [],
   "source": []
  },
  {
   "cell_type": "markdown",
   "metadata": {},
   "source": [
    "**32.** Triển khai giá trị trung bình lăn trên các nhóm có kích thước cửa sổ là 3, bỏ qua giá trị NaN. Ví dụ, hãy xem xét DataFrame sau:\n",
    "\n",
    "```python\n",
    ">>> df = pd.DataFrame({'group': list('aabbabbbabab'),\n",
    "                       'value': [1, 2, 3, np.nan, 2, 3, np.nan, 1, 7, 3, np.nan, 8]})\n",
    ">>> df\n",
    "   group  value\n",
    "0      a    1.0\n",
    "1      a    2.0\n",
    "2      b    3.0\n",
    "3      b    NaN\n",
    "4      a    2.0\n",
    "5      b    3.0\n",
    "6      b    NaN\n",
    "7      b    1.0\n",
    "8      a    7.0\n",
    "9      b    3.0\n",
    "10     a    NaN\n",
    "11     b    8.0\n",
    "```\n",
    "Mục tiêu là tính toán Series:\n",
    "\n",
    "```\n",
    "0     1.000000\n",
    "1     1.500000\n",
    "2     3.000000\n",
    "3     3.000000\n",
    "4     1.666667\n",
    "5     3.000000\n",
    "6     3.000000\n",
    "7     2.000000\n",
    "8     3.666667\n",
    "9     2.000000\n",
    "10    4.500000\n",
    "11    4.000000\n",
    "```\n",
    "E.g. cửa sổ đầu tiên có kích thước ba cho nhóm 'b' có các giá trị 3.0, NaN và 3.0 và xuất hiện ở chỉ mục hàng 5. Thay vì là NaN, giá trị trong cột mới ở chỉ mục hàng này phải là 3.0 (chỉ sử dụng hai giá trị không phải NaN để tính giá trị trung bình (3+3)/2)"
   ]
  },
  {
   "cell_type": "code",
   "execution_count": null,
   "metadata": {
    "collapsed": true,
    "jupyter": {
     "outputs_hidden": true
    }
   },
   "outputs": [],
   "source": []
  },
  {
   "cell_type": "markdown",
   "metadata": {},
   "source": [
    "## Series and DatetimeIndex\n",
    "\n",
    "### Bài tập tạo và thao tác Series với dữ liệu ngày giờ\n",
    "\n",
    "Mức độ: *easy/medium*\n",
    "\n",
    "pandas rất tuyệt vời để làm việc với ngày tháng và thời gian. Những câu đố này khám phá một số chức năng này.\n"
   ]
  },
  {
   "cell_type": "markdown",
   "metadata": {},
   "source": [
    "**33.** Tạo một DatetimeIndex chứa mỗi ngày làm việc của năm 2015 và sử dụng nó để lập chỉ mục cho một Series số ngẫu nhiên. Chúng ta hãy gọi Series này là `s`."
   ]
  },
  {
   "cell_type": "code",
   "execution_count": null,
   "metadata": {
    "collapsed": true,
    "jupyter": {
     "outputs_hidden": true
    }
   },
   "outputs": [],
   "source": []
  },
  {
   "cell_type": "markdown",
   "metadata": {},
   "source": [
    "**34.** Tìm tổng các giá trị trong `s` của mỗi thứ Wednesday."
   ]
  },
  {
   "cell_type": "code",
   "execution_count": null,
   "metadata": {
    "collapsed": true,
    "jupyter": {
     "outputs_hidden": true
    }
   },
   "outputs": [],
   "source": []
  },
  {
   "cell_type": "markdown",
   "metadata": {},
   "source": [
    "**35.** Đối với mỗi tháng dương lịch trong `s`, hãy tìm giá trị trung bình."
   ]
  },
  {
   "cell_type": "code",
   "execution_count": null,
   "metadata": {
    "collapsed": true,
    "jupyter": {
     "outputs_hidden": true
    }
   },
   "outputs": [],
   "source": []
  },
  {
   "cell_type": "markdown",
   "metadata": {},
   "source": [
    "**36.**Đối với mỗi nhóm bốn tháng liên tiếp trong lịch `s`, hãy tìm ngày có giá trị cao nhất."
   ]
  },
  {
   "cell_type": "code",
   "execution_count": null,
   "metadata": {
    "collapsed": true,
    "jupyter": {
     "outputs_hidden": true
    }
   },
   "outputs": [],
   "source": []
  },
  {
   "cell_type": "markdown",
   "metadata": {},
   "source": [
    "**37.** Tạo DateTimeIndex bao gồm thứ Năm tuần thứ ba của mỗi tháng trong các năm 2015 và 2016."
   ]
  },
  {
   "cell_type": "code",
   "execution_count": null,
   "metadata": {
    "collapsed": true,
    "jupyter": {
     "outputs_hidden": true
    }
   },
   "outputs": [],
   "source": []
  },
  {
   "cell_type": "markdown",
   "metadata": {},
   "source": [
    "## Làm sạch dữ liệu\n",
    "\n",
    "### Làm cho DataFrame dễ làm việc hơn\n",
    "\n",
    "Mức độ: *easy/medium*\n",
    "\n",
    "Điều này xảy ra thường xuyên: ai đó cung cấp cho bạn dữ liệu chứa chuỗi string không đúng định dạng, Python, danh sách và dữ liệu bị thiếu. Làm thế nào để bạn sắp xếp chúng để có thể tiếp tục phân tích?\n",
    "\n",
    "Hãy coi cái được cung cấp này như DataFrame để sử dụng trong các câu sau:\n",
    "\n",
    "```python\n",
    "df = pd.DataFrame({'From_To': ['LoNDon_paris', 'MAdrid_miLAN', 'londON_StockhOlm', \n",
    "                               'Budapest_PaRis', 'Brussels_londOn'],\n",
    "              'FlightNumber': [10045, np.nan, 10065, np.nan, 10085],\n",
    "              'RecentDelays': [[23, 47], [], [24, 43, 87], [13], [67, 32]],\n",
    "                   'Airline': ['KLM(!)', '<Air France> (12)', '(British Airways. )', \n",
    "                               '12. Air France', '\"Swiss Air\"']})\n",
    "```\n",
    "Được định dạng, nó trông như thế này:\n",
    "\n",
    "```\n",
    "            From_To  FlightNumber  RecentDelays              Airline\n",
    "0      LoNDon_paris       10045.0      [23, 47]               KLM(!)\n",
    "1      MAdrid_miLAN           NaN            []    <Air France> (12)\n",
    "2  londON_StockhOlm       10065.0  [24, 43, 87]  (British Airways. )\n",
    "3    Budapest_PaRis           NaN          [13]       12. Air France\n",
    "4   Brussels_londOn       10085.0      [67, 32]          \"Swiss Air\"\n",
    "```\n",
    "\n",
    "\n",
    "(Đây là một số dữ liệu chuyến bay do tác giả bịa ra; nó không có mục đích chính xác theo bất kỳ cách nào.)\n"
   ]
  },
  {
   "cell_type": "markdown",
   "metadata": {},
   "source": [
    "**38.** Một số giá trị trong cột **FlightNumber** bị thiếu (chúng là `NaN`). Những con số này có nghĩa là tăng thêm 10 với mỗi hàng nên cần phải đặt 10055 và 10075 vào vị trí. Sửa đổi `df` để điền vào những con số bị thiếu này và biến cột thành một cột số nguyên (thay vì một cột số thực)."
   ]
  },
  {
   "cell_type": "code",
   "execution_count": null,
   "metadata": {
    "collapsed": true,
    "jupyter": {
     "outputs_hidden": true
    }
   },
   "outputs": [],
   "source": []
  },
  {
   "cell_type": "markdown",
   "metadata": {},
   "source": [
    "**39.** Cột **From\\_To** sẽ tốt hơn nếu là hai cột riêng biệt! Tách từng chuỗi trên dấu gạch dưới `_` để tạo một DataFrame tạm thời mới có tên là 'temp' với các giá trị chính xác. Gán tên cột chính xác 'From' và 'To' cho DataFrame tạm thời này."
   ]
  },
  {
   "cell_type": "code",
   "execution_count": null,
   "metadata": {
    "collapsed": true,
    "jupyter": {
     "outputs_hidden": true
    }
   },
   "outputs": [],
   "source": []
  },
  {
   "cell_type": "markdown",
   "metadata": {},
   "source": [
    "**40.** Lưu ý cách viết hoa tên thành phố được trộn lẫn trong DataFrame tạm thời này 'temp'. Chuẩn hóa các chuỗi sao cho chỉ có chữ cái đầu tiên là chữ hoa (ví dụ: \"londON\" sẽ trở thành \"London\".)"
   ]
  },
  {
   "cell_type": "code",
   "execution_count": null,
   "metadata": {
    "collapsed": true,
    "jupyter": {
     "outputs_hidden": true
    }
   },
   "outputs": [],
   "source": []
  },
  {
   "cell_type": "markdown",
   "metadata": {},
   "source": [
    "**41.** Xóa cột **From_To** khỏi `df` và đính kèm DataFrame tạm thời 'temp' từ các câu hỏi trước đó."
   ]
  },
  {
   "cell_type": "code",
   "execution_count": null,
   "metadata": {
    "collapsed": true,
    "jupyter": {
     "outputs_hidden": true
    }
   },
   "outputs": [],
   "source": []
  },
  {
   "cell_type": "markdown",
   "metadata": {},
   "source": [
    "**42**. Trong cột **Airline**, bạn có thể thấy một số dấu câu và ký hiệu bổ sung xuất hiện xung quanh tên hãng hàng không. Thực hiện chính xác hóa tên hãng hàng không. Ví dụ: `'(British Airways. )'` phải trở thành `'British Airways'`."
   ]
  },
  {
   "cell_type": "code",
   "execution_count": null,
   "metadata": {
    "collapsed": true,
    "jupyter": {
     "outputs_hidden": true
    }
   },
   "outputs": [],
   "source": []
  },
  {
   "cell_type": "markdown",
   "metadata": {},
   "source": [
    "**43**. Trong cột RecentDelays, các giá trị đã được nhập vào DataFrame dưới dạng danh sách. Chúng tôi muốn mỗi giá trị đầu tiên trong cột riêng của nó, mỗi giá trị thứ hai trong cột riêng của nó, v.v. Nếu không có giá trị thứ N, giá trị sẽ là NaN.\n",
    "\n",
    "Mở rộng Series của các danh sách thành một DataFrame có tên là `delays`, đổi tên các cột `delay_1`, `delay_2`, v.v. và thay thế cột RecentDelays không mong muốn trong `df` bằng `delays`."
   ]
  },
  {
   "cell_type": "code",
   "execution_count": null,
   "metadata": {
    "collapsed": true,
    "jupyter": {
     "outputs_hidden": true
    }
   },
   "outputs": [],
   "source": []
  },
  {
   "cell_type": "markdown",
   "metadata": {},
   "source": [
    "Bây giờ DataFrame sẽ trông đẹp hơn nhiều.\n",
    "```\n",
    "   FlightNumber          Airline      From         To  delay_1  delay_2  delay_3\n",
    "0         10045              KLM    London      Paris     23.0     47.0      NaN\n",
    "1         10055       Air France    Madrid      Milan      NaN      NaN      NaN\n",
    "2         10065  British Airways    London  Stockholm     24.0     43.0     87.0\n",
    "3         10075       Air France  Budapest      Paris     13.0      NaN      NaN\n",
    "4         10085        Swiss Air  Brussels     London     67.0     32.0      NaN\n",
    "```"
   ]
  },
  {
   "cell_type": "markdown",
   "metadata": {
    "collapsed": true,
    "jupyter": {
     "outputs_hidden": true
    }
   },
   "source": [
    "## Sử dụng MultiIndexes\n",
    "\n",
    "### Vượt ra ngoài DataFrames phẳng với các cấp chỉ mục bổ sung\n",
    "\n",
    "Mức độ: *medium*\n",
    "\n",
    "Các bài tập trước đây đã cho chúng ta thấy việc phân tích dữ liệu từ DataFrames được trang bị một mức chỉ mục duy nhất. Tuy nhiên, pandas cũng cung cấp cho bạn khả năng lập chỉ mục dữ liệu của mình bằng cách sử dụng *multiple* mức. Điều này rất giống với việc thêm các chiều mới vào một Series hoặc một DataFrame. Ví dụ, một Series là 1D, nhưng bằng cách sử dụng MultiIndex với 2 mức, chúng ta có được chức năng tương tự như một DataFrame 2D.\n",
    "\n",
    "Bộ câu hỏi dưới đây khám phá cách bạn có thể sử dụng nhiều cấp chỉ mục để nâng cao khả năng phân tích dữ liệu.\n",
    "\n",
    "Để khởi động, chúng ta sẽ xem xét một Series có hai mức chỉ số."
   ]
  },
  {
   "cell_type": "markdown",
   "metadata": {},
   "source": [
    "**44**. Với các danh sách `letters = ['A', 'B', 'C']` và `numbers = list(range(10))`, hãy xây dựng một đối tượng MultiIndex từ tích của hai danh sách. Sử dụng nó để lập chỉ mục cho một Series các số ngẫu nhiên. Gọi Series này là `s`."
   ]
  },
  {
   "cell_type": "code",
   "execution_count": 3,
   "metadata": {
    "collapsed": true,
    "jupyter": {
     "outputs_hidden": true
    }
   },
   "outputs": [],
   "source": []
  },
  {
   "cell_type": "markdown",
   "metadata": {},
   "source": [
    "**45.** Kiểm tra xem chỉ mục của `s` có được sắp xếp theo thứ tự từ điển hay không (đây là thuộc tính cần thiết để lập chỉ mục hoạt động chính xác với MultiIndex)."
   ]
  },
  {
   "cell_type": "code",
   "execution_count": null,
   "metadata": {
    "collapsed": true,
    "jupyter": {
     "outputs_hidden": true
    }
   },
   "outputs": [],
   "source": []
  },
  {
   "cell_type": "markdown",
   "metadata": {},
   "source": [
    "**46**. Chọn các nhãn `1`, `3` và `6` từ cấp độ thứ hai của MultiIndexed Series."
   ]
  },
  {
   "cell_type": "code",
   "execution_count": null,
   "metadata": {
    "collapsed": true,
    "jupyter": {
     "outputs_hidden": true
    }
   },
   "outputs": [],
   "source": []
  },
  {
   "cell_type": "markdown",
   "metadata": {},
   "source": [
    "**47**. Cắt các Series `s`; cắt đến nhãn 'B' cho cấp độ đầu tiên và từ nhãn 5 trở đi cho cấp độ thứ hai."
   ]
  },
  {
   "cell_type": "code",
   "execution_count": null,
   "metadata": {
    "collapsed": true,
    "jupyter": {
     "outputs_hidden": true
    }
   },
   "outputs": [],
   "source": []
  },
  {
   "cell_type": "markdown",
   "metadata": {},
   "source": [
    "**48**. Tính tổng các giá trị trong `s` cho mỗi nhãn ở cấp độ đầu tiên (bạn sẽ có Series cung cấp tổng cho các nhãn A, B và C)."
   ]
  },
  {
   "cell_type": "code",
   "execution_count": null,
   "metadata": {
    "collapsed": true,
    "jupyter": {
     "outputs_hidden": true
    }
   },
   "outputs": [],
   "source": []
  },
  {
   "cell_type": "markdown",
   "metadata": {},
   "source": [
    "**49**. Giả sử `sum()` (và các phương pháp khác) không chấp nhận đối số từ khóa `level`. Bạn có thể thực hiện tương đương với `s.sum(level=1)` bằng cách nào khác?"
   ]
  },
  {
   "cell_type": "code",
   "execution_count": null,
   "metadata": {
    "collapsed": true,
    "jupyter": {
     "outputs_hidden": true
    }
   },
   "outputs": [],
   "source": []
  },
  {
   "cell_type": "markdown",
   "metadata": {},
   "source": [
    "**50**. Đổi các cấp độ của MultiIndex để chúng ta có một chỉ mục có dạng (chữ cái, số). Series mới này có được sắp xếp theo lexorp đúng không? Nếu không, hãy sắp xếp nó."
   ]
  },
  {
   "cell_type": "code",
   "execution_count": null,
   "metadata": {},
   "outputs": [],
   "source": []
  }
 ],
 "metadata": {
  "kernelspec": {
   "display_name": "Python 3 (ipykernel)",
   "language": "python",
   "name": "python3"
  },
  "language_info": {
   "codemirror_mode": {
    "name": "ipython",
    "version": 3
   },
   "file_extension": ".py",
   "mimetype": "text/x-python",
   "name": "python",
   "nbconvert_exporter": "python",
   "pygments_lexer": "ipython3",
   "version": "3.12.6"
  }
 },
 "nbformat": 4,
 "nbformat_minor": 4
}
