{
  "metadata": {
    "kernelspec": {
      "name": "python",
      "display_name": "Python (Pyodide)",
      "language": "python"
    },
    "language_info": {
      "codemirror_mode": {
        "name": "python",
        "version": 3
      },
      "file_extension": ".py",
      "mimetype": "text/x-python",
      "name": "python",
      "nbconvert_exporter": "python",
      "pygments_lexer": "ipython3",
      "version": "3.8"
    }
  },
  "nbformat_minor": 5,
  "nbformat": 4,
  "cells": [
    {
      "id": "003d8be9-0393-4d54-9d0c-1502ce65fcfc",
      "cell_type": "markdown",
      "source": "BÀI TẬP CÁ NHÂN\nLàm việc với văn bản",
      "metadata": {}
    },
    {
      "id": "f9c95cec-c4a5-48b6-919e-5567cc73d691",
      "cell_type": "markdown",
      "source": "Làm thế nào để hiển thị văn bản trên cửa sổ Pygame?",
      "metadata": {}
    },
    {
      "id": "3f97225d-898a-4341-b0c2-627abc86c1bd",
      "cell_type": "code",
      "source": "import pygame\n\npygame.init()\n\nscreen = pygame.display.set_mode( (600, 600), pygame.RESIZABLE )\n\n\ntxt_font = pygame.font.Font(None, 36)\n\ntxt_surface = txt_font.render(\"May the peace be with us!\", True, (255,255,255) )\n\nscreen.blit( txt_surface, (150, 300) )\n\npygame.display.flip()\n\nrunning = True\nwhile running:\n    for event in pygame.event.get():\n        if event.type == pygame.QUIT:\n            running = False\npygame.quit()",
      "metadata": {
        "trusted": true
      },
      "outputs": [],
      "execution_count": null
    },
    {
      "id": "6e127ac9-3559-4317-82eb-5b7dcfbf60fe",
      "cell_type": "markdown",
      "source": "Làm thế nào để tạo hộp cho phép nhập văn bản với Pygame?",
      "metadata": {}
    },
    {
      "id": "98272e53-626b-480c-a011-84a6bc77c566",
      "cell_type": "code",
      "source": "import pygame\n\npygame.init()\n\nscreen = pygame.display.set_mode( (600,400) )\npygame.display.set_caption(\"Tạo hộp nhập văn bản\")\n\ntxt_font = pygame.font.Font( None, 20)\n\ninput_txt = \"\"\ntrangthainhap = False\n\nrunning = True\nwhile running:\n    screen.fill( (255,255,255) )\n\n    pygame.draw.rect( screen, (0,0,0), (50, 150, 500, 50 ), 2)\n\n  \n\n    for event in pygame.event.get():\n        if event.type == pygame.QUIT:\n            running = False\n            \n        elif event.type == pygame.MOUSEBUTTONDOWN:\n            if 50 <= event.pos[0] <= 550 and 150 <= event.pos[1] <= 200 :\n                trangthainhap = True\n\n\n        elif event.type == pygame.KEYDOWN and trangthainhap:\n            if event.key == pygame.K_RETURN :\n                print(\"Đã nhập \", input_txt)\n                input_txt = \"\"\n            elif event.key == pygame.K_BACKSPACE:\n                input_txt = input_txt[ :-1 ]\n            else:\n                input_txt += event.unicode\n\n    txt_surface = txt_font.render( input_txt, True, (0,0,0) )\n    \n    screen.blit( txt_surface, (60,160) )\n    pygame.display.flip()\n        \n\npygame.quit()",
      "metadata": {
        "trusted": true
      },
      "outputs": [],
      "execution_count": null
    },
    {
      "id": "79123ce8-cd97-412f-953e-3696a3734180",
      "cell_type": "markdown",
      "source": "Làm việc với hình ảnh",
      "metadata": {}
    },
    {
      "id": "3fd2aa8b-3508-4e8d-a901-295ee30468b1",
      "cell_type": "markdown",
      "source": "Làm thế nào để hiển thị hình ảnh bằng PyGame?",
      "metadata": {}
    },
    {
      "id": "3a3d48d7-d027-47ca-b587-904a2545ef1c",
      "cell_type": "code",
      "source": "import pygame\n\npygame.init()\n\nscreen = pygame.display.set_mode( (700,700), pygame.RESIZABLE)\nscreen.fill( ( 255,255,255) )\n\npygame.display.set_caption(\"Hiển thị hình ảnh trong pygame\")\n\nhinhanh = pygame.image.load (r\"D:\\Nam2_2024_2025\\Hocki2\\TriTueNhanTao\\Pygame\\Violet.jpg\")\n\n\n\nscreen.blit( hinhanh, (50,50) )\npygame.display.flip()\n\nrunning = True\nwhile running :\n    for event in pygame.event.get():\n        if event.type == pygame.QUIT:\n            running = False\n\npygame.quit()",
      "metadata": {
        "trusted": true
      },
      "outputs": [],
      "execution_count": null
    },
    {
      "id": "903c70fd-fba0-4ab2-afca-8013880e311b",
      "cell_type": "markdown",
      "source": "Làm thế nào để lấy chiều rộng và chiều cao của hình ảnh trong Pygame?",
      "metadata": {}
    },
    {
      "id": "a10b5ae6-9603-4e21-ae60-7e912e40fc04",
      "cell_type": "code",
      "source": "import pygame\n\npygame.init()\n\nscreen = pygame.display.set_mode( (700,700), pygame.RESIZABLE )\n\nscreen.fill( (255,255,255) )\npygame.display.set_caption( \"Lấy kích thước ảnh\")\n\nhinhanh = pygame.image.load(r\"D:\\Nam2_2024_2025\\Hocki2\\TriTueNhanTao\\Pygame\\Violet.jpg\")\n\nimage_width, image_height = hinhanh.get_size()\n\n\nprint(f\"Kích thước ảnh : {image_width}x{image_height}\")\n\nscreen.blit( hinhanh, (50, 50) )\npygame.display.flip()\n\nrunning = True\nwhile running:\n    for event in pygame.event.get():\n        if event.type == pygame.QUIT:\n            running = False\n\npygame.quit()\n",
      "metadata": {
        "trusted": true
      },
      "outputs": [],
      "execution_count": null
    },
    {
      "id": "f639a2ab-7788-4819-9ccb-919e5338ec90",
      "cell_type": "markdown",
      "source": "Làm thế nào để xoay và thay đổi kích thước hình ảnh bằng PyGame?",
      "metadata": {}
    },
    {
      "id": "96ab0ed1-ea90-4505-8d7f-cdf8d3d6fb67",
      "cell_type": "code",
      "source": "import pygame\n\npygame.init()\n\nscreen = pygame.display.set_mode((800,600))\npygame.display.set_caption(\"Xoay và thay đổi kích thước hình ảnh\")\n\n\nimage = pygame.image.load(r\"D:\\Nam2_2024_2025\\Hocki2\\TriTueNhanTao\\Pygame\\Violet.jpg\")  \nresized_image = pygame.transform.scale(image, (300, 200))\n\nrotated_image = pygame.transform.rotate(resized_image, 45)\n\nimage_rect = rotated_image.get_rect(center=(800 // 2, 600 // 2))\n\nrunning = True\nwhile running:\n    for event in pygame.event.get():\n        if event.type == pygame.QUIT:\n            running = False\n\n    screen.fill((255, 255, 255)) \n    screen.blit(rotated_image, image_rect.topleft)\n\n    pygame.display.flip()  \n\npygame.quit()",
      "metadata": {
        "trusted": true
      },
      "outputs": [],
      "execution_count": null
    },
    {
      "id": "e499865c-3c9a-4df1-bf0b-05eb7c6b169d",
      "cell_type": "markdown",
      "source": "Làm thế nào để để lật hình ảnh",
      "metadata": {}
    },
    {
      "id": "7d4b3f6d-e44b-4f99-b446-f7c6183e90ba",
      "cell_type": "code",
      "source": "import pygame\n\npygame.init()\n\nscreen = pygame.display.set_mode((800,600))\npygame.display.set_caption(\"Lật ảnh\")\n\n\nimage = pygame.image.load(r\"D:\\Nam2_2024_2025\\Hocki2\\TriTueNhanTao\\Pygame\\Violet.jpg\")  \n\nlatngang = pygame.transform.flip(image, True, False)\n\nlatdoc = pygame.transform.flip(image, False, True)\n\nlat2chieu = pygame.transform.flip(image, True, True)\n\nscreen.blit(image, (50, 100)) \nscreen.blit(latngang, (300, 100))  \nscreen.blit(latdoc, (550, 100))  \nscreen.blit(lat2chieu, (300, 350))  \n\npygame.display.flip()  \n\nrunning = True\nwhile running:\n    for event in pygame.event.get():\n        if event.type == pygame.QUIT:\n            running = False\n\n\npygame.quit()\n",
      "metadata": {
        "trusted": true
      },
      "outputs": [],
      "execution_count": null
    },
    {
      "id": "bdae5c97-5ff1-4374-b3b8-c772bf033079",
      "cell_type": "markdown",
      "source": " Làm thế nào để di chuyển hình ảnh bằng chuột trong PyGame?",
      "metadata": {}
    },
    {
      "id": "b9d85fc4-749f-4794-a539-61a05ebb5064",
      "cell_type": "code",
      "source": "import pygame\n\npygame.init()\n\nscreen = pygame.display.set_mode((800,600))\npygame.display.set_caption(\"Di chuyển hình ảnh bằng chuột\")\n\n\nimage = pygame.image.load(r\"D:\\Nam2_2024_2025\\Hocki2\\TriTueNhanTao\\Pygame\\Violet.jpg\")  \n\nimage_rect = image.get_rect(topleft=(100, 100) )\n\nkeotha = False\n\nrunning = True\nwhile running:\n    screen.fill((255, 255, 255))\n    screen.blit(image, image_rect.topleft)\n    \n    for event in pygame.event.get():\n        if event.type == pygame.QUIT:\n            running = False\n\n        elif event.type == pygame.MOUSEBUTTONDOWN: \n            if image_rect.collidepoint(event.pos):  \n                keotha = True\n                mouse_x, mouse_y = event.pos  \n                offset_x = image_rect.x - mouse_x  \n                offset_y = image_rect.y - mouse_y\n\n        elif event.type == pygame.MOUSEBUTTONUP: \n            keotha = False\n\n        elif event.type == pygame.MOUSEMOTION:  \n            if keotha:\n                mouse_x, mouse_y = event.pos\n                image_rect.x = mouse_x + offset_x  \n                image_rect.y = mouse_y + offset_y\n\n    pygame.display.flip()  \n\n\npygame.quit()",
      "metadata": {
        "trusted": true
      },
      "outputs": [],
      "execution_count": null
    },
    {
      "id": "5f4af70f-9a99-48d0-bf1f-6d80c3cd9675",
      "cell_type": "markdown",
      "source": "Làm thế nào để sử dụng chuột để thay đổi kích thước và xoay hình ảnh trong \nPyGame?",
      "metadata": {}
    },
    {
      "id": "75dce926-3283-4d8f-96a6-48812f7bc732",
      "cell_type": "code",
      "source": "import pygame\n\npygame.init()\n\nscreen = pygame.display.set_mode((800,600))\npygame.display.set_caption(\"Dùng chuột xoay và thay đổi kích thước hình ảnh\")\n\n\nimage = pygame.image.load(r\"D:\\Nam2_2024_2025\\Hocki2\\TriTueNhanTao\\Pygame\\Violet.jpg\")  \n\noriginal_image = image\nimage_rect = image.get_rect(center=(800//2, 600//2))\n\nscale_factor = 1.0  \nrotation_angle = 0  \nxoay = False  \n\nrunning = True\nwhile running:\n    screen.fill((255, 255, 255))\n    \n    \n    for event in pygame.event.get():\n        if event.type == pygame.QUIT:\n            running = False\n\n        elif event.type == pygame.MOUSEWHEEL:\n            if event.y > 0:  \n                scale_factor += 0.1\n            elif event.y < 0:  \n                scale_factor -= 0.1\n                if scale_factor < 0.1:  \n                    scale_factor = 0.1\n\n        elif event.type == pygame.MOUSEBUTTONDOWN:\n            if image_rect.collidepoint(event.pos):  \n                xoay = True\n                last_mouse_x, last_mouse_y = event.pos  \n\n        elif event.type == pygame.MOUSEBUTTONUP:\n            xoay = False\n        \n        elif event.type == pygame.MOUSEMOTION and xoay:\n            mouse_x, mouse_y = event.pos\n            dx = mouse_x - last_mouse_x  \n            rotation_angle += dx * 0.5  \n            last_mouse_x, last_mouse_y = mouse_x, mouse_y  \n\n    new_size = (int(original_image.get_width() * scale_factor), int(original_image.get_height() * scale_factor))\n    scaled_image = pygame.transform.scale(original_image, new_size)\n\n    rotated_image = pygame.transform.rotate(scaled_image, rotation_angle)\n    \n    image_rect = image.get_rect(center=(800//2, 600//2))\n\n    screen.blit(rotated_image, image_rect.topleft)\n            \n    pygame.display.flip()  \n\n\npygame.quit()",
      "metadata": {
        "trusted": true
      },
      "outputs": [],
      "execution_count": null
    },
    {
      "id": "35b23162-5e74-49ff-a547-902d79e587d1",
      "cell_type": "markdown",
      "source": "BÀI TẬP CÁ NHÂN",
      "metadata": {}
    },
    {
      "id": "47fea66f-1070-44ba-8656-8d40a61a7d8a",
      "cell_type": "markdown",
      "source": "PyGame Advance",
      "metadata": {}
    },
    {
      "id": "02388231-8b57-449e-9d89-2ab748f60a41",
      "cell_type": "markdown",
      "source": "Làm thế nào để tạo nút trong trò chơi bằng PyGame?",
      "metadata": {}
    },
    {
      "id": "542279f1-fce1-4bbb-a8f4-bd65847ae98e",
      "cell_type": "code",
      "source": "import pygame\n\npygame.init()\nscreen = pygame.display.set_mode((600, 400))\npygame.display.set_caption(\"Tạo nút \")\n\n\nfont = pygame.font.Font(None, 40)\ntext = font.render(\"Press me !\", True, (0,0,0) )\nbutton_rect = pygame.Rect(200, 150, 200, 80)\n\nrunning = True\nwhile running:\n    screen.fill((30, 30, 30))  \n    pygame.draw.rect(screen, (255,255,255), button_rect) \n    screen.blit(text, (button_rect.x + 35, button_rect.y + 25)) \n\n    for event in pygame.event.get():\n        if event.type == pygame.QUIT:\n            running = False\n        elif event.type == pygame.MOUSEBUTTONDOWN:\n            if button_rect.collidepoint(event.pos ):  \n                print(\"Nút đã được nhấn!\")\n\n    pygame.display.flip()\n\npygame.quit()",
      "metadata": {
        "trusted": true
      },
      "outputs": [],
      "execution_count": null
    },
    {
      "id": "1ac31cfb-3236-4aa1-bdbe-c3878bcab2c3",
      "cell_type": "code",
      "source": "Làm thế nào để vẽ thiết kế bằng phím mũi tên trong PyGame?",
      "metadata": {
        "trusted": true
      },
      "outputs": [],
      "execution_count": null
    },
    {
      "id": "09141a35-3200-41a1-b444-919855145af0",
      "cell_type": "code",
      "source": "import pygame\n\npygame.init()\nscreen = pygame.display.set_mode((600, 400))\npygame.display.set_caption(\"Vẽ bằng phím mũi tên\")\n\n\nx, y = 300, 200  \npath = [(x, y) ]  \n\nrunning = True\nwhile running:\n    screen.fill( (255, 255, 255))\n\n    for event in pygame.event.get():\n        if event.type == pygame.QUIT:\n            running = False\n        elif event.type == pygame.KEYDOWN:\n            if event.key == pygame.K_UP:\n                y -= 10\n            elif event.key == pygame.K_DOWN:\n                y += 10\n            elif event.key == pygame.K_LEFT:\n                x -= 10\n            elif event.key == pygame.K_RIGHT:\n                x += 10\n            path.append((x, y))  \n\n    \n    if len(path) > 1:\n        pygame.draw.lines(screen, (0,0,0 ) , False, path, 3)\n\n    pygame.display.flip()\n\npygame.quit()",
      "metadata": {
        "trusted": true
      },
      "outputs": [],
      "execution_count": null
    },
    {
      "id": "494ea4cb-74e3-4463-8a3d-35e544d29c20",
      "cell_type": "markdown",
      "source": "Làm thế nào để di chuyển đối tượng trong PyGame?",
      "metadata": {}
    },
    {
      "id": "fc2bde41-20c7-4477-9184-42eea28222d1",
      "cell_type": "code",
      "source": "import pygame\n\npygame.init()\nscreen = pygame.display.set_mode((600, 400))\npygame.display.set_caption(\"Di chuyển đối tượng\")\n\n\nx, y = 250, 150  \nspeed = 0.1\n\nrunning = True\nwhile running:\n    screen.fill(( 255,255,255))  \n\n    for event in pygame.event.get():\n        if event.type == pygame.QUIT:\n            running = False\n\n    keys = pygame.key.get_pressed()\n    if keys[pygame.K_UP]:\n        y -= speed\n    if keys[pygame.K_DOWN]:\n        y += speed\n    if keys[pygame.K_LEFT]:\n        x -= speed\n    if keys[pygame.K_RIGHT]:\n        x += speed\n\n    pygame.draw.rect(screen, \"black\", (x, y, 50, 50))  \n\n    pygame.display.flip()\n\npygame.quit()",
      "metadata": {
        "trusted": true
      },
      "outputs": [],
      "execution_count": null
    },
    {
      "id": "057316b0-4797-4692-bdda-ea0acec430e5",
      "cell_type": "markdown",
      "source": " Làm thế nào để làm cho đối tượng nhảy trong PyGame?",
      "metadata": {}
    },
    {
      "id": "9653e0cd-2df4-480b-a24a-4dcb1c76751c",
      "cell_type": "code",
      "source": "import pygame\n\npygame.init()\nscreen = pygame.display.set_mode( (600, 400) )\nclock = pygame.time.Clock( )\n\n\nx, y = 250, 300\ngravity = 1\nvelocity = 0\njump_power = -15\nis_jumping = False\n\nrunning = True\nwhile running:\n    screen.fill(\"white\")\n\n    for event in pygame.event.get( ):\n        if event.type == pygame.QUIT:\n            running = False\n        elif event.type == pygame.KEYDOWN:\n            if event.key == pygame.K_SPACE and not is_jumping:\n                velocity = jump_power  \n                is_jumping = True\n\n    velocity += gravity\n    y += velocity\n\n    if y >= 300: \n        y = 300\n        is_jumping = False\n\n    pygame.draw.rect(screen, \"black\", (x, y, 50, 50))\n\n    pygame.display.flip()\n    clock.tick(30)\n\npygame.quit()",
      "metadata": {
        "trusted": true
      },
      "outputs": [],
      "execution_count": null
    },
    {
      "id": "d7018ea5-053e-4c08-82ea-3ebe527f0ddf",
      "cell_type": "markdown",
      "source": "Làm thế nào để thêm ranh giới vào đối tượng trong Pygame?",
      "metadata": {}
    },
    {
      "id": "44648d24-30bf-499c-ae9e-9c7be1d9e4da",
      "cell_type": "code",
      "source": "import pygame\n\npygame.init()\n\nscreen = pygame.display.set_mode((800, 600))\npygame.display.set_caption(\"Giới hạn ranh giới\")\n\n\nobj_width, obj_height = 50, 50\nx, y = 4400, 300 \nspeed = 0.5\n\nrunning = True\nwhile running:\n    screen.fill(\"white\")  \n\n    for event in pygame.event.get():\n        if event.type == pygame.QUIT:\n            running = False\n\n   \n    keys = pygame.key.get_pressed()\n    if keys[pygame.K_UP]:\n        y -= speed\n    if keys[pygame.K_DOWN]:\n        y += speed\n    if keys[pygame.K_LEFT]:\n        x -= speed\n    if keys[pygame.K_RIGHT]:\n        x += speed\n\n\n    x = max(0, min(800- obj_width, x))\n    y = max(0, min(600 - obj_height, y))\n\n\n    pygame.draw.rect(screen, \"black\", (x, y, obj_width, obj_height))\n\n    pygame.display.flip()\n\npygame.quit()",
      "metadata": {
        "trusted": true
      },
      "outputs": [],
      "execution_count": null
    },
    {
      "id": "56f8c81c-2a3b-4b1f-942e-fd6d37dfeeb4",
      "cell_type": "markdown",
      "source": "Làm thế nào để phát hiện va chạm trong PyGame?",
      "metadata": {}
    },
    {
      "id": "04ca73b8-bf79-4f0f-b6af-23b49bd6069e",
      "cell_type": "code",
      "source": "import pygame\n\npygame.init()\n\nrong, cao = 800, 600\nscreen = pygame.display.set_mode((rong, cao))\npygame.display.set_caption(\"Phát hiện va chạm \")\n\n\nplayer = pygame.Rect(100, 100, 50, 50)\nenemy = pygame.Rect(400, 300, 50, 50)\n\nplayer_x, player_y = float(player.x), float(player.y)\nspeed = 5\n\nclock = pygame.time.Clock() \n\nrunning = True\nwhile running:\n    dt = clock.tick(60) / 1000 \n    screen.fill(\"white\")\n\n    for event in pygame.event.get():\n        if event.type == pygame.QUIT:\n            running = False\n\n    keys = pygame.key.get_pressed()\n    if keys[pygame.K_UP]:\n        player_y -= speed * dt * 100\n    if keys[pygame.K_DOWN]:\n        player_y += speed * dt * 100\n    if keys[pygame.K_LEFT]:\n        player_x -= speed * dt * 100\n    if keys[pygame.K_RIGHT]:\n        player_x += speed * dt * 100\n\n\n    player.x, player.y = round(player_x), round(player_y)\n\n    if player.colliderect(enemy):\n        print(\"Va chạm!\")\n\n\n    pygame.draw.rect(screen, 'red', player)\n    pygame.draw.rect(screen, \"black\", enemy)\n\n    pygame.display.flip()\n\npygame.quit()\n",
      "metadata": {
        "trusted": true
      },
      "outputs": [],
      "execution_count": null
    },
    {
      "id": "57eedcb7-18fc-4ecf-95b1-fc19abd235fb",
      "cell_type": "markdown",
      "source": "Làm thế nào để tạo Sprite?",
      "metadata": {}
    },
    {
      "id": "9904d791-bfb2-4e24-9d55-c7b9d03cea5a",
      "cell_type": "code",
      "source": "import pygame\n\npygame.init()\n\nrong, cao = 800, 600\nscreen = pygame.display.set_mode((rong, cao))\npygame.display.set_caption(\"Tạo Sprite\")\n\n\nclass Player(pygame.sprite.Sprite ):\n    def __init__(self):\n        super().__init__()\n        self.image = pygame.Surface((50, 50)) \n        self.image.fill((255, 0, 0)) \n        self.rect = self.image.get_rect(center=(rong // 2, cao // 2)) \n        self.speed = 0.7\n\n    def update(self, keys):\n        if keys[pygame.K_LEFT]:\n            self.rect.x -= self.speed\n        if keys[pygame.K_RIGHT]:\n            self.rect.x += self.speed\n        if keys[pygame.K_UP]:\n            self.rect.y -= self.speed\n        if keys[pygame.K_DOWN]:\n            self.rect.y += self.speed\n\nplayer = Player()\n\n\nall_sprites = pygame.sprite.Group()\nall_sprites.add(player)\n\nrunning = True\nwhile running:\n    screen.fill(\"white\") \n\n    for event in pygame.event.get():\n        if event.type == pygame.QUIT:\n            running = False\n\n    keys = pygame.key.get_pressed()\n    all_sprites.update(keys)\n\n    all_sprites.draw(screen)\n\n    pygame.display.flip() \n\npygame.quit()",
      "metadata": {
        "trusted": true
      },
      "outputs": [],
      "execution_count": null
    },
    {
      "id": "cfdac3ea-50a4-46f9-a947-b2c847170a0d",
      "cell_type": "markdown",
      "source": " Làm thế nào để điều khiển Sprite?",
      "metadata": {}
    },
    {
      "id": "e3b728b1-ca29-4f3b-807b-0de87d8ca036",
      "cell_type": "code",
      "source": "import pygame\n\npygame.init()\n\nrong, cao = 800, 600\nscreen = pygame.display.set_mode((rong, cao))\npygame.display.set_caption(\"Tạo Sprite\")\n\n\nclass Player(pygame.sprite.Sprite ):\n    def __init__(self):\n        super().__init__()\n        self.image = pygame.Surface((50, 50)) \n        self.image.fill((255, 0, 0)) \n        self.rect = self.image.get_rect(center=(rong // 2, cao // 2)) \n        self.speed = 0.7\n\n    def update(self, keys):\n        if keys[pygame.K_LEFT]:\n            self.rect.x -= self.speed\n        if keys[pygame.K_RIGHT]:\n            self.rect.x += self.speed\n        if keys[pygame.K_UP]:\n            self.rect.y -= self.speed\n        if keys[pygame.K_DOWN]:\n            self.rect.y += self.speed\n\nplayer = Player()\n\n\nall_sprites = pygame.sprite.Group()\nall_sprites.add(player)\n\nrunning = True\nwhile running:\n    screen.fill(\"white\") \n\n    for event in pygame.event.get():\n        if event.type == pygame.QUIT:\n            running = False\n\n    keys = pygame.key.get_pressed()\n    all_sprites.update(keys)\n\n    all_sprites.draw(screen)\n\n    pygame.display.flip() \n\npygame.quit()",
      "metadata": {
        "trusted": true
      },
      "outputs": [],
      "execution_count": null
    },
    {
      "id": "7d581d64-1199-4704-8ca2-35607bbf9da4",
      "cell_type": "markdown",
      "source": " Làm thế nào để thêm hiệu ứng màu sắc bằng pygame?",
      "metadata": {}
    },
    {
      "id": "683b480e-b276-4863-82f4-296b88e4b497",
      "cell_type": "code",
      "source": "import pygame\n\npygame.init()\nscreen = pygame.display.set_mode((600, 400))\npygame.display.set_caption(\"Thay đổi màu sắc khi nhấn phím\")\n\ncolors = [(255, 0, 0), (0, 255, 0), (0, 0, 255), (255, 255, 0)]\ncurrent_color = 0\n\nrunning = True\nwhile running:\n    screen.fill((255, 255, 255))  \n\n    for event in pygame.event.get():\n        if event.type == pygame.QUIT:\n            running = False\n        elif event.type == pygame.KEYDOWN:\n            current_color = (current_color + 1) % len(colors)  \n    pygame.draw.rect(screen, colors[current_color], (250, 150, 100, 100))\n\n    pygame.display.flip()\n\npygame.quit()",
      "metadata": {
        "trusted": true
      },
      "outputs": [],
      "execution_count": null
    },
    {
      "id": "ab2a5859-de6a-4e7f-b5be-eed17a2aba56",
      "cell_type": "markdown",
      "source": "Làm thế nào để phát tệp âm thanh trong Pygame?",
      "metadata": {}
    },
    {
      "id": "93424ae7-5c13-4d2d-9e3c-8f50ee94ae2d",
      "cell_type": "code",
      "source": "import pygame\n\npygame.init()\npygame.mixer.init()\n\npygame.mixer.music.load(r\"D:\\Nam2_2024_2025\\Hocki2\\TriTueNhanTao\\Pygame\\Sakura.mp3\")  \npygame.mixer.music.play(-1)  \n\nscreen = pygame.display.set_mode((600, 400))\npygame.display.set_caption(\"Phát nhạc nền\")\n\nrunning = True\nwhile running:\n    for event in pygame.event.get():\n        if event.type == pygame.QUIT:\n            running = False\n\npygame.quit()",
      "metadata": {
        "trusted": true
      },
      "outputs": [],
      "execution_count": null
    }
  ]
}